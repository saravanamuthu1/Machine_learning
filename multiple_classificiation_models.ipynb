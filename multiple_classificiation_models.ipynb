{
  "nbformat": 4,
  "nbformat_minor": 0,
  "metadata": {
    "colab": {
      "name": "MachineLearning_3(1).ipynb",
      "provenance": [],
      "collapsed_sections": []
    },
    "kernelspec": {
      "name": "python3",
      "display_name": "Python 3"
    },
    "language_info": {
      "name": "python"
    },
    "accelerator": "GPU",
    "gpuClass": "standard"
  },
  "cells": [
    {
      "cell_type": "markdown",
      "source": [
        "Part I (60 points):  Apply Classification approaches on FashionMNIST Dataset\n",
        "\n",
        "\n"
      ],
      "metadata": {
        "id": "7_v4StbH7l90"
      }
    },
    {
      "cell_type": "code",
      "execution_count": 2,
      "metadata": {
        "id": "FVhUiB_yFxIJ"
      },
      "outputs": [],
      "source": [
        "import tensorflow\n",
        "import tensorflow as tf\n",
        "from tensorflow import keras\n",
        "from matplotlib import pyplot as plt\n",
        "import pandas as pd\n",
        "import numpy as np\n",
        "import sklearn\n",
        "from sklearn.neighbors import KNeighborsClassifier\n",
        "from sklearn.exceptions import NotFittedError\n",
        "from sklearn.metrics import confusion_matrix\n",
        "from sklearn.metrics import accuracy_score\n",
        "import joblib\n"
      ]
    },
    {
      "cell_type": "code",
      "source": [
        "fashion_minst = keras.datasets.fashion_mnist"
      ],
      "metadata": {
        "id": "sxs7rJpgG0PL"
      },
      "execution_count": 3,
      "outputs": []
    },
    {
      "cell_type": "code",
      "source": [
        "class_names = [\"T-shirt/top\", \"Trouser\", \"Pullover\", \"Dress\", \"Coat\",\n",
        "\"Sandal\", \"Shirt\", \"Sneaker\", \"Bag\", \"Ankle boot\"]"
      ],
      "metadata": {
        "id": "lHhwn_Ywcb-G"
      },
      "execution_count": 4,
      "outputs": []
    },
    {
      "cell_type": "markdown",
      "source": [
        "(5 points). Prepare the Fashion MNIST dataset\n",
        "\n",
        "Following the steps in our textbook P297-298 (Chapter 10) to load the FashionMNIST dataset from keras package into python.\n",
        "\n",
        "Requirement: the FashionMNIST image data should be prepared and saved into the following six variables (X_train, X_valid, X_test, y_train, y_valid, y_test) with proper dimensions.\n",
        "\n"
      ],
      "metadata": {
        "id": "rniP1cUJ73eA"
      }
    },
    {
      "cell_type": "code",
      "source": [
        "(x_train_full,y_train_full),(x_test,y_test)=fashion_minst.load_data()"
      ],
      "metadata": {
        "id": "7eMpI-bIHOtc",
        "colab": {
          "base_uri": "https://localhost:8080/"
        },
        "outputId": "7324ead2-8202-4bd7-cd34-4aca6fa6e302"
      },
      "execution_count": 5,
      "outputs": [
        {
          "output_type": "stream",
          "name": "stdout",
          "text": [
            "Downloading data from https://storage.googleapis.com/tensorflow/tf-keras-datasets/train-labels-idx1-ubyte.gz\n",
            "32768/29515 [=================================] - 0s 0us/step\n",
            "40960/29515 [=========================================] - 0s 0us/step\n",
            "Downloading data from https://storage.googleapis.com/tensorflow/tf-keras-datasets/train-images-idx3-ubyte.gz\n",
            "26427392/26421880 [==============================] - 0s 0us/step\n",
            "26435584/26421880 [==============================] - 0s 0us/step\n",
            "Downloading data from https://storage.googleapis.com/tensorflow/tf-keras-datasets/t10k-labels-idx1-ubyte.gz\n",
            "16384/5148 [===============================================================================================] - 0s 0us/step\n",
            "Downloading data from https://storage.googleapis.com/tensorflow/tf-keras-datasets/t10k-images-idx3-ubyte.gz\n",
            "4423680/4422102 [==============================] - 0s 0us/step\n",
            "4431872/4422102 [==============================] - 0s 0us/step\n"
          ]
        }
      ]
    },
    {
      "cell_type": "code",
      "source": [
        "print(x_train_full.shape)\n",
        "print(y_train_full.shape)\n",
        "print(x_test.shape)\n",
        "print(y_test.shape)"
      ],
      "metadata": {
        "colab": {
          "base_uri": "https://localhost:8080/"
        },
        "id": "qzE0q3h4HdJb",
        "outputId": "2ce4461a-5ee3-4674-9e34-0c55fef2784d"
      },
      "execution_count": 6,
      "outputs": [
        {
          "output_type": "stream",
          "name": "stdout",
          "text": [
            "(60000, 28, 28)\n",
            "(60000,)\n",
            "(10000, 28, 28)\n",
            "(10000,)\n"
          ]
        }
      ]
    },
    {
      "cell_type": "code",
      "source": [
        "df=pd.DataFrame(y_train_full)\n",
        "fre_val=df.value_counts()\n",
        "fre_val\n",
        "\n",
        "plt.bar(class_names,fre_val)\n",
        "plt.show()"
      ],
      "metadata": {
        "colab": {
          "base_uri": "https://localhost:8080/",
          "height": 265
        },
        "id": "yUdXO_wsacdo",
        "outputId": "74182791-d89f-4a67-93d6-6eb7cbe9784d"
      },
      "execution_count": 7,
      "outputs": [
        {
          "output_type": "display_data",
          "data": {
            "text/plain": [
              "<Figure size 432x288 with 1 Axes>"
            ],
            "image/png": "[encoded data removed]"
          },
          "metadata": {
            "needs_background": "light"
          }
        }
      ]
    },
    {
      "cell_type": "code",
      "source": [
        "x_valid, x_train = x_train_full[:5000], x_train_full[5000:]\n",
        "y_valid, y_train = y_train_full[:5000], y_train_full[5000:]"
      ],
      "metadata": {
        "id": "5WpudAR8HsqD"
      },
      "execution_count": 8,
      "outputs": []
    },
    {
      "cell_type": "code",
      "source": [
        "print(x_train.shape)\n",
        "print(y_train.shape)\n",
        "print(x_valid.shape)\n",
        "print(y_valid.shape)"
      ],
      "metadata": {
        "colab": {
          "base_uri": "https://localhost:8080/"
        },
        "id": "dYn6pO6WI6-1",
        "outputId": "e38b6ba2-a942-44af-8b9a-53ac78bd073b"
      },
      "execution_count": 9,
      "outputs": [
        {
          "output_type": "stream",
          "name": "stdout",
          "text": [
            "(55000, 28, 28)\n",
            "(55000,)\n",
            "(5000, 28, 28)\n",
            "(5000,)\n"
          ]
        }
      ]
    },
    {
      "cell_type": "code",
      "source": [
        "y_train"
      ],
      "metadata": {
        "colab": {
          "base_uri": "https://localhost:8080/"
        },
        "id": "I4OZUxcQE3j6",
        "outputId": "baecd695-5dfd-4f3b-fc92-6ca6ce456a53"
      },
      "execution_count": 10,
      "outputs": [
        {
          "output_type": "execute_result",
          "data": {
            "text/plain": [
              "array([4, 0, 7, ..., 3, 0, 5], dtype=uint8)"
            ]
          },
          "metadata": {},
          "execution_count": 10
        }
      ]
    },
    {
      "cell_type": "markdown",
      "source": [
        "Step 3 (5 points). Examine the frequency of classes in train, validation, and test set. \n",
        "Write codes to check the number of samples for every class in train, validation, and test set. We need to check if the data set is balanced or imbalanced dataset. You can either print out the class frequency, or visualize the class frequency."
      ],
      "metadata": {
        "id": "BaGlGzXxcUHt"
      }
    },
    {
      "cell_type": "code",
      "source": [
        "df=pd.DataFrame(y_train)\n",
        "df1=pd.DataFrame(y_valid)\n",
        "df2=pd.DataFrame(y_test)\n",
        "fre_val_train=df.value_counts()\n",
        "fre_val_valid=df1.value_counts()\n",
        "fre_val_test=df2.value_counts()"
      ],
      "metadata": {
        "id": "M4DFSbbvcOiX"
      },
      "execution_count": 11,
      "outputs": []
    },
    {
      "cell_type": "code",
      "source": [
        "\n",
        "plt.bar(class_names,fre_val_train)\n",
        "plt.show()"
      ],
      "metadata": {
        "colab": {
          "base_uri": "https://localhost:8080/",
          "height": 265
        },
        "id": "gAasy6QhbLVL",
        "outputId": "1dc1adfd-37b2-47f2-a711-1988ea3bafbe"
      },
      "execution_count": 12,
      "outputs": [
        {
          "output_type": "display_data",
          "data": {
            "text/plain": [
              "<Figure size 432x288 with 1 Axes>"
            ],
            "image/png": "[encoded data removed]"
          },
          "metadata": {
            "needs_background": "light"
          }
        }
      ]
    },
    {
      "cell_type": "code",
      "source": [
        "plt.bar(class_names,fre_val_valid)\n",
        "plt.show()"
      ],
      "metadata": {
        "colab": {
          "base_uri": "https://localhost:8080/",
          "height": 265
        },
        "id": "F1B9mST0b0lq",
        "outputId": "1e4d9598-a450-4927-ca37-8e38dbb52f3b"
      },
      "execution_count": 13,
      "outputs": [
        {
          "output_type": "display_data",
          "data": {
            "text/plain": [
              "<Figure size 432x288 with 1 Axes>"
            ],
            "image/png": "[encoded data removed]"
          },
          "metadata": {
            "needs_background": "light"
          }
        }
      ]
    },
    {
      "cell_type": "code",
      "source": [
        "plt.bar(class_names,fre_val_test)\n",
        "plt.show()"
      ],
      "metadata": {
        "colab": {
          "base_uri": "https://localhost:8080/",
          "height": 265
        },
        "id": "hI5hZArzbXPV",
        "outputId": "8e3142e7-dd2c-4bd2-db98-2848db80b5b1"
      },
      "execution_count": 14,
      "outputs": [
        {
          "output_type": "display_data",
          "data": {
            "text/plain": [
              "<Figure size 432x288 with 1 Axes>"
            ],
            "image/png": "[encoded data removed]"
          },
          "metadata": {
            "needs_background": "light"
          }
        }
      ]
    },
    {
      "cell_type": "code",
      "source": [
        "class_names = [\"T-shirt/top\", \"Trouser\", \"Pullover\", \"Dress\", \"Coat\",\n",
        "\"Sandal\", \"Shirt\", \"Sneaker\", \"Bag\", \"Ankle boot\"]"
      ],
      "metadata": {
        "id": "HichRl2nK44W"
      },
      "execution_count": 15,
      "outputs": []
    },
    {
      "cell_type": "code",
      "source": [
        "def evaluate_accuracy(x_val,predict_value):\n",
        "  accuracy_value1=accuracy_score(x_val,predict_value)\n",
        "  matrix = confusion_matrix(x_val,predict_value)\n",
        "  per_class_acc=matrix.diagonal()/matrix.sum(axis=1)\n",
        "  return accuracy_value1, per_class_acc"
      ],
      "metadata": {
        "id": "EMX4J2x4ptWh"
      },
      "execution_count": 16,
      "outputs": []
    },
    {
      "cell_type": "markdown",
      "source": [
        "Step 2 (5 points). Visualize the sample images\n",
        "\n",
        "Requirement: randomly select 9 instances from the training set, and write codes to visualize the instances as image using matplotlib. All the nine images should be organized into 3 by 3 grids using the function 'plt.subplot()' and save in the one figure.\n"
      ],
      "metadata": {
        "id": "ogF5tRTX8AuJ"
      }
    },
    {
      "cell_type": "code",
      "source": [
        "for i in range(9):\t\n",
        "  plt.subplot(330 + 1 + i)\n",
        "  plt.axis(\"OFF\")\n",
        "  plt.imshow(x_train[i], cmap=plt.get_cmap('gray'))\n",
        "  plt.title(class_names[y_train[i]])\n",
        "plt.show()\n"
      ],
      "metadata": {
        "colab": {
          "base_uri": "https://localhost:8080/",
          "height": 264
        },
        "id": "mEn79ccOJtwE",
        "outputId": "921dcace-6e95-4b8b-cd69-df5d3fa6ea40"
      },
      "execution_count": 18,
      "outputs": [
        {
          "output_type": "display_data",
          "data": {
            "text/plain": [
              "<Figure size 432x288 with 9 Axes>"
            ],
            "image/png": "[encoded data removed]"
          },
          "metadata": {
            "needs_background": "light"
          }
        }
      ]
    },
    {
      "cell_type": "code",
      "source": [
        "x_train_flatten=x_train.reshape(55000,28*28)\n",
        "x_train_flatten.shape"
      ],
      "metadata": {
        "colab": {
          "base_uri": "https://localhost:8080/"
        },
        "id": "mZgk6nsJKmyl",
        "outputId": "e6fd121f-ccc3-4caa-d551-31874930957f"
      },
      "execution_count": 19,
      "outputs": [
        {
          "output_type": "execute_result",
          "data": {
            "text/plain": [
              "(55000, 784)"
            ]
          },
          "metadata": {},
          "execution_count": 19
        }
      ]
    },
    {
      "cell_type": "code",
      "source": [
        "x_valid_flatten=x_valid.reshape(5000,28*28)\n",
        "x_valid_flatten.shape"
      ],
      "metadata": {
        "colab": {
          "base_uri": "https://localhost:8080/"
        },
        "id": "9iN8V2N-RqQo",
        "outputId": "5702b3cb-568d-406b-ce46-d1f50df7f267"
      },
      "execution_count": 20,
      "outputs": [
        {
          "output_type": "execute_result",
          "data": {
            "text/plain": [
              "(5000, 784)"
            ]
          },
          "metadata": {},
          "execution_count": 20
        }
      ]
    },
    {
      "cell_type": "code",
      "source": [
        "x_test_flatten=x_test.reshape(10000,28*28)\n",
        "x_test_flatten.shape"
      ],
      "metadata": {
        "colab": {
          "base_uri": "https://localhost:8080/"
        },
        "id": "dqe3PmqtPnPZ",
        "outputId": "fc621bec-ea72-4113-d7ab-68d53e62c3ca"
      },
      "execution_count": 21,
      "outputs": [
        {
          "output_type": "execute_result",
          "data": {
            "text/plain": [
              "(10000, 784)"
            ]
          },
          "metadata": {},
          "execution_count": 21
        }
      ]
    },
    {
      "cell_type": "markdown",
      "source": [
        "(45 points) Build several classification models. The example codes will be provided. You need to fit each machine learning model on the training set (55000 images) and make predictions on the validation set (5000 images) and  test set (5000 images). Before starting the coding, please review/read the corresponding sections in the textbook.\n"
      ],
      "metadata": {
        "id": "SriUOskSEbgj"
      }
    },
    {
      "cell_type": "markdown",
      "source": [
        "(9 points) K Nearest-neighbors:"
      ],
      "metadata": {
        "id": "U0NwWWQREi9E"
      }
    },
    {
      "cell_type": "markdown",
      "source": [
        "Training the KNN model  (try any K value as you wish) on the training set (55000 images), and report the running time during the prediction process on the validation set (5000 images).\n"
      ],
      "metadata": {
        "id": "llgJH9tFE-iG"
      }
    },
    {
      "cell_type": "code",
      "source": [
        "KNN_classifier=KNeighborsClassifier(n_neighbors=4)\n",
        "KNN_classifier.fit(x_train_flatten,y_train)"
      ],
      "metadata": {
        "colab": {
          "base_uri": "https://localhost:8080/"
        },
        "id": "SGnm9l0BO29p",
        "outputId": "81575888-4871-41f8-ef7c-12cff8da1948"
      },
      "execution_count": 23,
      "outputs": [
        {
          "output_type": "execute_result",
          "data": {
            "text/plain": [
              "KNeighborsClassifier(n_neighbors=4)"
            ]
          },
          "metadata": {},
          "execution_count": 23
        }
      ]
    },
    {
      "cell_type": "code",
      "source": [
        "import time\n",
        "start = time.time()\n",
        "\n",
        "#Run your codes here\n",
        "predited_value=KNN_classifier.predict(x_test_flatten)\n",
        "\n",
        "end = time.time()\n",
        "time_duration = end-start\n",
        "print(\"Program finishes in {} seconds:\".format(time_duration))"
      ],
      "metadata": {
        "colab": {
          "base_uri": "https://localhost:8080/"
        },
        "id": "J9MBLFD_QKK7",
        "outputId": "2e114a51-6d3f-4e31-a188-06f1c3711c1a"
      },
      "execution_count": 24,
      "outputs": [
        {
          "output_type": "stream",
          "name": "stdout",
          "text": [
            "Program finishes in 32.490609645843506 seconds:\n"
          ]
        }
      ]
    },
    {
      "cell_type": "markdown",
      "source": [
        "  (2 points) Calculate the overall accuracy of the predictions over training set and validation set."
      ],
      "metadata": {
        "id": "nO7PhCCLFFcH"
      }
    },
    {
      "cell_type": "code",
      "source": [
        "predited_value1=KNN_classifier.predict(x_valid_flatten)\n",
        "predited_value1"
      ],
      "metadata": {
        "colab": {
          "base_uri": "https://localhost:8080/"
        },
        "id": "M-ESjxy2RisZ",
        "outputId": "67c4dd73-caad-4162-be53-61fcdf28bd25"
      },
      "execution_count": 25,
      "outputs": [
        {
          "output_type": "execute_result",
          "data": {
            "text/plain": [
              "array([9, 0, 0, ..., 5, 8, 3], dtype=uint8)"
            ]
          },
          "metadata": {},
          "execution_count": 25
        }
      ]
    },
    {
      "cell_type": "code",
      "source": [
        "predited_value_knn_train=KNN_classifier.predict(x_train_flatten)"
      ],
      "metadata": {
        "id": "Ug3H1b07cpg1"
      },
      "execution_count": 26,
      "outputs": []
    },
    {
      "cell_type": "code",
      "source": [
        "accuracy_train,per_train_acc=evaluate_accuracy(y_train,predited_value_knn_train)\n",
        "accuracy_valid,per_valid_acc=evaluate_accuracy(y_valid,predited_value1)\n",
        "accuracy_test,per_test_acc=evaluate_accuracy(y_test,predited_value)"
      ],
      "metadata": {
        "id": "LzinhjDup0B1"
      },
      "execution_count": 30,
      "outputs": []
    },
    {
      "cell_type": "code",
      "source": [
        "print(\"accuracy_value_test\",accuracy_test)\n",
        "print(\"accuracy_value_train\",accuracy_train)\n",
        "print(\"accuracy_value_valid\",accuracy_valid)"
      ],
      "metadata": {
        "colab": {
          "base_uri": "https://localhost:8080/"
        },
        "id": "I3dmklecqKuY",
        "outputId": "60826daa-da7c-4725-f6a3-9c356fab6e4c"
      },
      "execution_count": 31,
      "outputs": [
        {
          "output_type": "stream",
          "name": "stdout",
          "text": [
            "accuracy_value_test 0.8558\n",
            "accuracy_value_train 0.9066909090909091\n",
            "accuracy_value_valid 0.863\n"
          ]
        }
      ]
    },
    {
      "cell_type": "markdown",
      "source": [
        "Calculate the per-class accuracy of the predictions over training set and validation set.. For instance, among images of every class, how many of them are correctly predicted. "
      ],
      "metadata": {
        "id": "rzbDN55MFZ_H"
      }
    },
    {
      "cell_type": "code",
      "source": [
        "print(\"per_class_accruacy_train: \",per_train_acc)\n",
        "print(\" \")\n",
        "print(\"per_class_accruacy_test: \",per_test_acc)\n",
        "print(\" \")\n",
        "print(\"per_class_accruacy_valid: \",per_valid_acc)"
      ],
      "metadata": {
        "colab": {
          "base_uri": "https://localhost:8080/"
        },
        "id": "f1Z5xOoYqs9C",
        "outputId": "493b85b6-0d59-42dd-ff87-adeb95daec00"
      },
      "execution_count": 33,
      "outputs": [
        {
          "output_type": "stream",
          "name": "stdout",
          "text": [
            "per_class_accruacy_train:  [0.94966625 0.98475386 0.90174672 0.92053101 0.8271045  0.9213728\n",
            " 0.65407663 0.97995627 0.96370236 0.96505278]\n",
            " \n",
            "per_class_accruacy_test:  [0.882 0.971 0.829 0.866 0.739 0.852 0.548 0.969 0.949 0.953]\n",
            " \n",
            "per_class_accruacy_valid:  [0.89715536 0.97302158 0.82539683 0.88822355 0.75204918 0.88438134\n",
            " 0.51115619 0.97265625 0.94897959 0.95849802]\n"
          ]
        }
      ]
    },
    {
      "cell_type": "markdown",
      "source": [
        "Try different K values, and select the best model that has highest validation accuracy.  Make the predictions on test set (10000 images). And visualize the classification confusion matrix to check the details of predictions over every class. Report the classification on test set."
      ],
      "metadata": {
        "id": "2_O6eGNmFkXw"
      }
    },
    {
      "cell_type": "code",
      "source": [
        "from sklearn.metrics._plot.confusion_matrix import ConfusionMatrixDisplay\n",
        "ConfusionMatrixDisplay.from_predictions(y_test, predited_value)\n",
        "plt.show()"
      ],
      "metadata": {
        "colab": {
          "base_uri": "https://localhost:8080/",
          "height": 279
        },
        "id": "o7p114VcTdkl",
        "outputId": "286572b7-b508-469f-8a81-e2da0f2ac73b"
      },
      "execution_count": 36,
      "outputs": [
        {
          "output_type": "display_data",
          "data": {
            "text/plain": [
              "<Figure size 432x288 with 2 Axes>"
            ],
            "image/png": "[encoded data removed]"
          },
          "metadata": {
            "needs_background": "light"
          }
        }
      ]
    },
    {
      "cell_type": "code",
      "source": [
        "ConfusionMatrixDisplay.from_predictions(y_train, predited_value_knn_train)\n",
        "plt.show()"
      ],
      "metadata": {
        "colab": {
          "base_uri": "https://localhost:8080/",
          "height": 279
        },
        "id": "oNa_vjjH5NR9",
        "outputId": "d4562c96-3ffc-45d1-deb1-8f071a3f4e5f"
      },
      "execution_count": 109,
      "outputs": [
        {
          "output_type": "display_data",
          "data": {
            "text/plain": [
              "<Figure size 432x288 with 2 Axes>"
            ],
            "image/png": "[encoded data removed]"
          },
          "metadata": {
            "needs_background": "light"
          }
        }
      ]
    },
    {
      "cell_type": "code",
      "source": [
        "from sklearn.metrics._plot.confusion_matrix import ConfusionMatrixDisplay\n",
        "ConfusionMatrixDisplay.from_predictions(y_valid, predited_value1)\n",
        "plt.show()"
      ],
      "metadata": {
        "colab": {
          "base_uri": "https://localhost:8080/",
          "height": 279
        },
        "id": "N_j-7Zz0ToNY",
        "outputId": "86950fe7-061e-4865-cfff-a3415252e980"
      },
      "execution_count": 37,
      "outputs": [
        {
          "output_type": "display_data",
          "data": {
            "text/plain": [
              "<Figure size 432x288 with 2 Axes>"
            ],
            "image/png": "[encoded data removed]"
          },
          "metadata": {
            "needs_background": "light"
          }
        }
      ]
    },
    {
      "cell_type": "markdown",
      "source": [
        " (1 points) Save the trained model to disk."
      ],
      "metadata": {
        "id": "IDmuB1BdFpli"
      }
    },
    {
      "cell_type": "code",
      "source": [
        "model4 = KNeighborsClassifier(n_neighbors=4)\n",
        "model4.fit(x_train_flatten, y_train)\n",
        "# save the model to disk\n",
        "filename4 = 'Knmodel.sav'\n",
        "joblib.dump(model4, filename4)"
      ],
      "metadata": {
        "colab": {
          "base_uri": "https://localhost:8080/"
        },
        "id": "H8sZXqUUaEtc",
        "outputId": "f327c44a-b729-4c81-c405-ac2fbf4cad66"
      },
      "execution_count": 38,
      "outputs": [
        {
          "output_type": "execute_result",
          "data": {
            "text/plain": [
              "['Knmodel.sav']"
            ]
          },
          "metadata": {},
          "execution_count": 38
        }
      ]
    },
    {
      "cell_type": "code",
      "source": [
        "loaded_model = joblib.load(filename4)\n",
        "result = loaded_model.predict(x_test_flatten)"
      ],
      "metadata": {
        "id": "SgNy4fLGao-h"
      },
      "execution_count": 39,
      "outputs": []
    },
    {
      "cell_type": "markdown",
      "source": [
        "Task 4.2: Softmax regression: https://scikit-learn.org/stable/modules/generated/sklearn.linear_model.LogisticRegression.htmlLinks to an external site.\n",
        "\n",
        "Task 4.2.1:  (3 points)  Review chapter 4, P148-P151. Answer the following questions in your notebook"
      ],
      "metadata": {
        "id": "aAI0QFAaF0rY"
      }
    },
    {
      "cell_type": "markdown",
      "source": [
        "Q1: How is the softmax regression used for multi-class classification?\n",
        "      the logistic regresssion model can be genralised to support multiple classess directly,without having to train and multiple binary classfier. this is called softmax regression. when we give a instance x, the softmax regression predcits the prpbability for each class. the class which has the highest probability is our predicted class."
      ],
      "metadata": {
        "id": "thlvLAqoGnRL"
      }
    },
    {
      "cell_type": "markdown",
      "source": [
        ": What's the cost function for softmax regression to implement the multi-class classification?\n",
        "    Cross entropy cost fucntion Equation 4-22. Cross entropy cost function • J Θ = − 1 m ∑ m i = 1 In this equation: ∑ K k = 1 y i k log pi k"
      ],
      "metadata": {
        "id": "gGwZQfdLHVJo"
      }
    },
    {
      "cell_type": "markdown",
      "source": [
        "2 points) Review the codes in chapter 4, P150-P151 to build softmax models. Train the model on the training set (55000 images), and report the running time during the prediction process on the validation set (5000 images\n"
      ],
      "metadata": {
        "id": "hjE7dPYlJfp1"
      }
    },
    {
      "cell_type": "code",
      "source": [
        "from sklearn.linear_model import LogisticRegression\n",
        "softmax_regression = LogisticRegression(multi_class='multinomial', solver='lbfgs')\n",
        "softmax_regression.fit(x_train_flatten, y_train)"
      ],
      "metadata": {
        "colab": {
          "base_uri": "https://localhost:8080/"
        },
        "id": "ykAHgLtDbZKu",
        "outputId": "c042d41a-603f-4ba3-c9f2-ab18013df77e"
      },
      "execution_count": 40,
      "outputs": [
        {
          "output_type": "stream",
          "name": "stderr",
          "text": [
            "/usr/local/lib/python3.7/dist-packages/sklearn/linear_model/_logistic.py:818: ConvergenceWarning: lbfgs failed to converge (status=1):\n",
            "STOP: TOTAL NO. of ITERATIONS REACHED LIMIT.\n",
            "\n",
            "Increase the number of iterations (max_iter) or scale the data as shown in:\n",
            "    https://scikit-learn.org/stable/modules/preprocessing.html\n",
            "Please also refer to the documentation for alternative solver options:\n",
            "    https://scikit-learn.org/stable/modules/linear_model.html#logistic-regression\n",
            "  extra_warning_msg=_LOGISTIC_SOLVER_CONVERGENCE_MSG,\n"
          ]
        },
        {
          "output_type": "execute_result",
          "data": {
            "text/plain": [
              "LogisticRegression(multi_class='multinomial')"
            ]
          },
          "metadata": {},
          "execution_count": 40
        }
      ]
    },
    {
      "cell_type": "code",
      "source": [
        "import time\n",
        "start = time.time()\n",
        "\n",
        "softmax_prediction1 = softmax_regression.predict(x_test_flatten)\n",
        "end = time.time()\n",
        "time_duration = end-start\n",
        "print(\"Program finishes in {} seconds:\".format(time_duration))"
      ],
      "metadata": {
        "colab": {
          "base_uri": "https://localhost:8080/"
        },
        "id": "4NB_kVtNcCo8",
        "outputId": "00a277f6-a030-414b-e0f2-2ffd72b437d4"
      },
      "execution_count": 41,
      "outputs": [
        {
          "output_type": "stream",
          "name": "stdout",
          "text": [
            "Program finishes in 0.04075455665588379 seconds:\n"
          ]
        }
      ]
    },
    {
      "cell_type": "code",
      "source": [
        "softmax_prediction2 = softmax_regression.predict(x_train_flatten)"
      ],
      "metadata": {
        "id": "FiDCXw5GeFH6"
      },
      "execution_count": 42,
      "outputs": []
    },
    {
      "cell_type": "code",
      "source": [
        "softmax_prediction3=softmax_regression.predict(x_valid_flatten)"
      ],
      "metadata": {
        "id": "jLfo1TSDcWVp"
      },
      "execution_count": 43,
      "outputs": []
    },
    {
      "cell_type": "markdown",
      "source": [
        "  (2 points) Calculate the overall accuracy of the predictions over training set and validation set. \n",
        "\n",
        "\n"
      ],
      "metadata": {
        "id": "WZ4ytEhtJmi-"
      }
    },
    {
      "cell_type": "code",
      "source": [
        "accuracy_train,per_train_acc=evaluate_accuracy(y_train,softmax_prediction2)\n",
        "accuracy_valid,per_valid_acc=evaluate_accuracy(y_valid,softmax_prediction3)\n",
        "accuracy_test,per_test_acc=evaluate_accuracy(y_test,softmax_prediction1)"
      ],
      "metadata": {
        "id": "TWvE7jgZrMbe"
      },
      "execution_count": 44,
      "outputs": []
    },
    {
      "cell_type": "code",
      "source": [
        "print(accuracy_test)\n",
        "print(accuracy_train)\n",
        "print(accuracy_valid)"
      ],
      "metadata": {
        "colab": {
          "base_uri": "https://localhost:8080/"
        },
        "id": "2gCoyYOIrv5G",
        "outputId": "1552b2d5-a6ce-41de-87af-c3d528538587"
      },
      "execution_count": 45,
      "outputs": [
        {
          "output_type": "stream",
          "name": "stdout",
          "text": [
            "0.8403\n",
            "0.8638363636363636\n",
            "0.8546\n"
          ]
        }
      ]
    },
    {
      "cell_type": "markdown",
      "source": [
        " (2 points) Calculate the per-class accuracy of the predictions over training set and validation set. For instance, among images of every class, how many of them are correctly predicted. \n",
        "\n"
      ],
      "metadata": {
        "id": "jKOGyXluJsg1"
      }
    },
    {
      "cell_type": "code",
      "source": [
        "print(\"per_class_accruacy_train: \",per_train_acc)\n",
        "print(\" \")\n",
        "print(\"per_class_accruacy_test: \",per_test_acc)\n",
        "print(\" \")\n",
        "print(\"per_class_accruacy_valid: \",per_valid_acc)"
      ],
      "metadata": {
        "colab": {
          "base_uri": "https://localhost:8080/"
        },
        "id": "PQZVS2iqr2yO",
        "outputId": "b51bfa0f-8ba4-4ac1-b938-6b29ad3ac136"
      },
      "execution_count": 46,
      "outputs": [
        {
          "output_type": "stream",
          "name": "stdout",
          "text": [
            "per_class_accruacy_train:  [0.8480967  0.96693608 0.77165211 0.87888707 0.8149492  0.91229344\n",
            " 0.60232431 0.94059767 0.95245009 0.95176556]\n",
            " \n",
            "per_class_accruacy_test:  [0.809 0.96  0.739 0.856 0.773 0.893 0.55  0.933 0.947 0.943]\n",
            " \n",
            "per_class_accruacy_valid:  [0.82932166 0.97122302 0.74404762 0.88223553 0.79303279 0.9188641\n",
            " 0.55983773 0.92578125 0.95102041 0.95059289]\n"
          ]
        }
      ]
    },
    {
      "cell_type": "markdown",
      "source": [
        "(2 points) Try different C values, and select the best model that has highest validation accuracy.  Make the predictions on test set (10000 images). And visualize the classification confusion matrix to check the details of predictions over every class. Report the classification on test set."
      ],
      "metadata": {
        "id": "u7X607TSJ-ww"
      }
    },
    {
      "cell_type": "code",
      "source": [
        "from sklearn.metrics._plot.confusion_matrix import ConfusionMatrixDisplay\n",
        "ConfusionMatrixDisplay.from_predictions(y_test, softmax_prediction1)\n",
        "plt.show()"
      ],
      "metadata": {
        "colab": {
          "base_uri": "https://localhost:8080/",
          "height": 279
        },
        "id": "pipnV5UVdYDd",
        "outputId": "e1d3a49c-b30b-4d98-9a35-5a5ae421c8eb"
      },
      "execution_count": 47,
      "outputs": [
        {
          "output_type": "display_data",
          "data": {
            "text/plain": [
              "<Figure size 432x288 with 2 Axes>"
            ],
            "image/png": "[encoded data removed]"
          },
          "metadata": {
            "needs_background": "light"
          }
        }
      ]
    },
    {
      "cell_type": "code",
      "source": [
        "ConfusionMatrixDisplay.from_predictions(y_train, softmax_prediction2)\n",
        "plt.show()"
      ],
      "metadata": {
        "colab": {
          "base_uri": "https://localhost:8080/",
          "height": 279
        },
        "id": "bALUGWJR47vu",
        "outputId": "285453ee-11e6-4d35-8d71-9ba638c66bba"
      },
      "execution_count": 108,
      "outputs": [
        {
          "output_type": "display_data",
          "data": {
            "text/plain": [
              "<Figure size 432x288 with 2 Axes>"
            ],
            "image/png": "[encoded data removed]"
          },
          "metadata": {
            "needs_background": "light"
          }
        }
      ]
    },
    {
      "cell_type": "code",
      "source": [
        "from sklearn.metrics._plot.confusion_matrix import ConfusionMatrixDisplay\n",
        "ConfusionMatrixDisplay.from_predictions(y_valid, softmax_prediction3)\n",
        "plt.show()"
      ],
      "metadata": {
        "colab": {
          "base_uri": "https://localhost:8080/",
          "height": 279
        },
        "id": "k4RID6i6ddkN",
        "outputId": "e66d13c2-8922-404d-8eba-66aa6f870411"
      },
      "execution_count": 48,
      "outputs": [
        {
          "output_type": "display_data",
          "data": {
            "text/plain": [
              "<Figure size 432x288 with 2 Axes>"
            ],
            "image/png": "[encoded data removed]"
          },
          "metadata": {
            "needs_background": "light"
          }
        }
      ]
    },
    {
      "cell_type": "markdown",
      "source": [
        "(1 points) Save the trained model to disk."
      ],
      "metadata": {
        "id": "oNSF__Q0KGQh"
      }
    },
    {
      "cell_type": "code",
      "source": [
        "model1 = LogisticRegression(multi_class='multinomial', solver='lbfgs')\n",
        "model1.fit(x_train_flatten, y_train)\n",
        "# save the model to disk\n",
        "filename1 = 'softmax.sav'\n",
        "joblib.dump(model1, filename1)"
      ],
      "metadata": {
        "colab": {
          "base_uri": "https://localhost:8080/"
        },
        "id": "4EtLSBWAdlSC",
        "outputId": "912a9006-5a0a-4428-a0ba-47df5d3d74ff"
      },
      "execution_count": 49,
      "outputs": [
        {
          "output_type": "stream",
          "name": "stderr",
          "text": [
            "/usr/local/lib/python3.7/dist-packages/sklearn/linear_model/_logistic.py:818: ConvergenceWarning: lbfgs failed to converge (status=1):\n",
            "STOP: TOTAL NO. of ITERATIONS REACHED LIMIT.\n",
            "\n",
            "Increase the number of iterations (max_iter) or scale the data as shown in:\n",
            "    https://scikit-learn.org/stable/modules/preprocessing.html\n",
            "Please also refer to the documentation for alternative solver options:\n",
            "    https://scikit-learn.org/stable/modules/linear_model.html#logistic-regression\n",
            "  extra_warning_msg=_LOGISTIC_SOLVER_CONVERGENCE_MSG,\n"
          ]
        },
        {
          "output_type": "execute_result",
          "data": {
            "text/plain": [
              "['softmax.sav']"
            ]
          },
          "metadata": {},
          "execution_count": 49
        }
      ]
    },
    {
      "cell_type": "code",
      "source": [
        "loaded_model = joblib.load(filename1)\n",
        "result = loaded_model.predict(x_test_flatten)"
      ],
      "metadata": {
        "id": "FfcxrqJxd_C6"
      },
      "execution_count": 50,
      "outputs": []
    },
    {
      "cell_type": "markdown",
      "source": [
        "15 points) Build a simple neural network using Keras."
      ],
      "metadata": {
        "id": "O21tYoumKOIJ"
      }
    },
    {
      "cell_type": "code",
      "source": [
        "x_train_normalise=x_train/255.0\n",
        "x_test_normalise=x_test/255.0\n",
        "x_valid_normalise=x_valid/255.0"
      ],
      "metadata": {
        "id": "OqhcLoOxjeMu"
      },
      "execution_count": 51,
      "outputs": []
    },
    {
      "cell_type": "code",
      "source": [
        "x_train_normalise.shape"
      ],
      "metadata": {
        "colab": {
          "base_uri": "https://localhost:8080/"
        },
        "id": "EBEImLyEmKpS",
        "outputId": "cbccbd7b-1a26-40a7-e127-adef6abd1f9b"
      },
      "execution_count": 52,
      "outputs": [
        {
          "output_type": "execute_result",
          "data": {
            "text/plain": [
              "(55000, 28, 28)"
            ]
          },
          "metadata": {},
          "execution_count": 52
        }
      ]
    },
    {
      "cell_type": "code",
      "source": [
        "x_train_normalise_flatten=x_train_normalise.reshape(-1,28*28)\n",
        "x_test_normalise_flatten=x_test_normalise.reshape(-1,28*28)\n",
        "x_valid_normalise_flatten=x_valid_normalise.reshape(-1,28*28)\n"
      ],
      "metadata": {
        "id": "qIkPrXf2pnb6"
      },
      "execution_count": 53,
      "outputs": []
    },
    {
      "cell_type": "code",
      "source": [
        "x_train_normalise_flatten.shape"
      ],
      "metadata": {
        "colab": {
          "base_uri": "https://localhost:8080/"
        },
        "id": "g0ZGWDSMtvkt",
        "outputId": "95d243af-dd22-4cf3-9a1f-3c74da4155b2"
      },
      "execution_count": 54,
      "outputs": [
        {
          "output_type": "execute_result",
          "data": {
            "text/plain": [
              "(55000, 784)"
            ]
          },
          "metadata": {},
          "execution_count": 54
        }
      ]
    },
    {
      "cell_type": "code",
      "source": [
        "from keras.models import Sequential\n",
        "from keras.layers import Dense"
      ],
      "metadata": {
        "id": "ml-xN8SzrKQE"
      },
      "execution_count": 55,
      "outputs": []
    },
    {
      "cell_type": "code",
      "source": [
        "model_simple=Sequential()\n",
        "model_simple.add(tf.keras.layers.Dense(units=128,activation='relu',input_shape=(784,)))\n",
        "model_simple.add(tf.keras.layers.Dense(units=10,activation='softmax'))\n",
        "model_simple.compile(optimizer='adam',loss = tf.keras.losses.SparseCategoricalCrossentropy(from_logits=True), metrics=['accuracy'])\n",
        "model_simple.summary()"
      ],
      "metadata": {
        "colab": {
          "base_uri": "https://localhost:8080/"
        },
        "id": "FfCmXxh17muX",
        "outputId": "b61aac8d-4903-44ce-c125-eacda620bbba"
      },
      "execution_count": 56,
      "outputs": [
        {
          "output_type": "stream",
          "name": "stdout",
          "text": [
            "Model: \"sequential\"\n",
            "_________________________________________________________________\n",
            " Layer (type)                Output Shape              Param #   \n",
            "=================================================================\n",
            " dense (Dense)               (None, 128)               100480    \n",
            "                                                                 \n",
            " dense_1 (Dense)             (None, 10)                1290      \n",
            "                                                                 \n",
            "=================================================================\n",
            "Total params: 101,770\n",
            "Trainable params: 101,770\n",
            "Non-trainable params: 0\n",
            "_________________________________________________________________\n"
          ]
        }
      ]
    },
    {
      "cell_type": "markdown",
      "source": [
        "(2 points) Calculate the overall accuracy of the predictions over training set and validation set. \n"
      ],
      "metadata": {
        "id": "pbU7gKK7K2Wh"
      }
    },
    {
      "cell_type": "code",
      "source": [
        "train_history = model_simple.fit(x_train_normalise_flatten,y_train, validation_data=(x_valid_flatten,y_valid), batch_size=32, epochs = 10)"
      ],
      "metadata": {
        "colab": {
          "base_uri": "https://localhost:8080/"
        },
        "id": "WGRvHXkh8LnR",
        "outputId": "f78c8168-ef76-40bb-ba1a-2e0ed31af088"
      },
      "execution_count": 57,
      "outputs": [
        {
          "output_type": "stream",
          "name": "stdout",
          "text": [
            "Epoch 1/10\n"
          ]
        },
        {
          "output_type": "stream",
          "name": "stderr",
          "text": [
            "/usr/local/lib/python3.7/dist-packages/tensorflow/python/util/dispatch.py:1082: UserWarning: \"`sparse_categorical_crossentropy` received `from_logits=True`, but the `output` argument was produced by a sigmoid or softmax activation and thus does not represent logits. Was this intended?\"\n",
            "  return dispatch_target(*args, **kwargs)\n"
          ]
        },
        {
          "output_type": "stream",
          "name": "stdout",
          "text": [
            "1719/1719 [==============================] - 7s 3ms/step - loss: 0.5006 - accuracy: 0.8229 - val_loss: 51.7436 - val_accuracy: 0.8540\n",
            "Epoch 2/10\n",
            "1719/1719 [==============================] - 7s 4ms/step - loss: 0.3779 - accuracy: 0.8637 - val_loss: 51.4849 - val_accuracy: 0.8582\n",
            "Epoch 3/10\n",
            "1719/1719 [==============================] - 5s 3ms/step - loss: 0.3374 - accuracy: 0.8753 - val_loss: 47.3461 - val_accuracy: 0.8646\n",
            "Epoch 4/10\n",
            "1719/1719 [==============================] - 4s 3ms/step - loss: 0.3103 - accuracy: 0.8864 - val_loss: 47.4359 - val_accuracy: 0.8758\n",
            "Epoch 5/10\n",
            "1719/1719 [==============================] - 4s 2ms/step - loss: 0.2933 - accuracy: 0.8931 - val_loss: 51.8624 - val_accuracy: 0.8604\n",
            "Epoch 6/10\n",
            "1719/1719 [==============================] - 4s 3ms/step - loss: 0.2785 - accuracy: 0.8975 - val_loss: 47.1115 - val_accuracy: 0.8766\n",
            "Epoch 7/10\n",
            "1719/1719 [==============================] - 4s 2ms/step - loss: 0.2668 - accuracy: 0.9018 - val_loss: 55.1112 - val_accuracy: 0.8684\n",
            "Epoch 8/10\n",
            "1719/1719 [==============================] - 4s 2ms/step - loss: 0.2547 - accuracy: 0.9044 - val_loss: 53.0401 - val_accuracy: 0.8754\n",
            "Epoch 9/10\n",
            "1719/1719 [==============================] - 4s 2ms/step - loss: 0.2466 - accuracy: 0.9076 - val_loss: 55.7974 - val_accuracy: 0.8688\n",
            "Epoch 10/10\n",
            "1719/1719 [==============================] - 4s 2ms/step - loss: 0.2389 - accuracy: 0.9111 - val_loss: 53.6478 - val_accuracy: 0.8728\n"
          ]
        }
      ]
    },
    {
      "cell_type": "markdown",
      "source": [
        "  (2 points) Calculate the overall accuracy of the predictions over training set and validation set."
      ],
      "metadata": {
        "id": "E_Gbp9uRSeWT"
      }
    },
    {
      "cell_type": "code",
      "source": [
        "model_simple.evaluate(x_test_normalise_flatten,y_test)"
      ],
      "metadata": {
        "colab": {
          "base_uri": "https://localhost:8080/"
        },
        "id": "CpynzoLk_7kA",
        "outputId": "e4c4520d-be82-4613-b705-a04c1348bd91"
      },
      "execution_count": 58,
      "outputs": [
        {
          "output_type": "stream",
          "name": "stdout",
          "text": [
            " 43/313 [===>..........................] - ETA: 0s - loss: 0.3282 - accuracy: 0.8852"
          ]
        },
        {
          "output_type": "stream",
          "name": "stderr",
          "text": [
            "/usr/local/lib/python3.7/dist-packages/tensorflow/python/util/dispatch.py:1082: UserWarning: \"`sparse_categorical_crossentropy` received `from_logits=True`, but the `output` argument was produced by a sigmoid or softmax activation and thus does not represent logits. Was this intended?\"\n",
            "  return dispatch_target(*args, **kwargs)\n"
          ]
        },
        {
          "output_type": "stream",
          "name": "stdout",
          "text": [
            "313/313 [==============================] - 1s 2ms/step - loss: 0.3354 - accuracy: 0.8800\n"
          ]
        },
        {
          "output_type": "execute_result",
          "data": {
            "text/plain": [
              "[0.3353787660598755, 0.8799999952316284]"
            ]
          },
          "metadata": {},
          "execution_count": 58
        }
      ]
    },
    {
      "cell_type": "code",
      "source": [
        "model_simple.evaluate(x_train_normalise_flatten,y_train)"
      ],
      "metadata": {
        "colab": {
          "base_uri": "https://localhost:8080/"
        },
        "id": "CQiR1G-C5H0R",
        "outputId": "c594155f-cfac-4245-e140-8830f2e3cf5a"
      },
      "execution_count": 59,
      "outputs": [
        {
          "output_type": "stream",
          "name": "stdout",
          "text": [
            "1719/1719 [==============================] - 4s 2ms/step - loss: 0.2229 - accuracy: 0.9186\n"
          ]
        },
        {
          "output_type": "execute_result",
          "data": {
            "text/plain": [
              "[0.2228984236717224, 0.9186363816261292]"
            ]
          },
          "metadata": {},
          "execution_count": 59
        }
      ]
    },
    {
      "cell_type": "code",
      "source": [
        "val_simple=np.argmax(model_simple.predict(x_valid_normalise_flatten),axis=1)"
      ],
      "metadata": {
        "id": "R-QHA6JOALxw"
      },
      "execution_count": 60,
      "outputs": []
    },
    {
      "cell_type": "code",
      "source": [
        "val_simple_test=np.argmax(model_simple.predict(x_test_normalise_flatten),axis=1)"
      ],
      "metadata": {
        "id": "i8G0AhO0uoA2"
      },
      "execution_count": 61,
      "outputs": []
    },
    {
      "cell_type": "code",
      "source": [
        "val_simple_train=np.argmax(model_simple.predict(x_train_normalise_flatten),axis=1)"
      ],
      "metadata": {
        "id": "XjVprjDsgZ-_"
      },
      "execution_count": 62,
      "outputs": []
    },
    {
      "cell_type": "code",
      "source": [
        "accuracy_train,per_train_acc=evaluate_accuracy(y_train,val_simple_train)\n",
        "accuracy_valid,per_valid_acc=evaluate_accuracy(y_valid,val_simple)\n",
        "accuracy_test,per_test_acc=evaluate_accuracy(y_test,val_simple_test)\n"
      ],
      "metadata": {
        "id": "-CJHRptFtCLX"
      },
      "execution_count": 63,
      "outputs": []
    },
    {
      "cell_type": "code",
      "source": [
        "print(accuracy_valid)\n",
        "print(accuracy_train)\n",
        "print(accuracy_test)"
      ],
      "metadata": {
        "colab": {
          "base_uri": "https://localhost:8080/"
        },
        "id": "Xrp2Der6tQ4Q",
        "outputId": "bf9235cf-db48-4bb5-8e75-399e278ba9db"
      },
      "execution_count": 64,
      "outputs": [
        {
          "output_type": "stream",
          "name": "stdout",
          "text": [
            "0.8942\n",
            "0.9186363636363636\n",
            "0.88\n"
          ]
        }
      ]
    },
    {
      "cell_type": "markdown",
      "source": [
        "Calculate the per-class accuracy of the predictions over training set and validation set. For instance, among images of every class, how many of them are correctly predicted. "
      ],
      "metadata": {
        "id": "U53nxXFD-Q2o"
      }
    },
    {
      "cell_type": "code",
      "source": [
        "print(\"per_class_accruacy_train: \",per_train_acc)\n",
        "print(\" \")\n",
        "print(\"per_class_accruacy_test: \",per_test_acc)\n",
        "print(\" \")\n",
        "print(\"per_class_accruacy_valid: \",per_valid_acc)"
      ],
      "metadata": {
        "colab": {
          "base_uri": "https://localhost:8080/"
        },
        "id": "n4tHtdjTtjod",
        "outputId": "2ebebd7a-fb0c-425c-a28e-5296ba2584bd"
      },
      "execution_count": 65,
      "outputs": [
        {
          "output_type": "stream",
          "name": "stdout",
          "text": [
            "per_class_accruacy_train:  [0.84232365 0.99504041 0.84825328 0.89198036 0.90529753 0.99455239\n",
            " 0.78736154 0.98688047 0.98820327 0.94794321]\n",
            " \n",
            "per_class_accruacy_test:  [0.782 0.98  0.794 0.849 0.868 0.972 0.702 0.972 0.973 0.908]\n",
            " \n",
            "per_class_accruacy_valid:  [0.80306346 0.98741007 0.8015873  0.8742515  0.90368852 0.98985801\n",
            " 0.70182556 0.96679688 0.97142857 0.9229249 ]\n"
          ]
        }
      ]
    },
    {
      "cell_type": "markdown",
      "source": [
        "Visualize the classification confusion matrix to check the details of the predictions for each class over test set (10000 images). Report the classification accuracy on test set."
      ],
      "metadata": {
        "id": "lLHCdFjWU_Pw"
      }
    },
    {
      "cell_type": "code",
      "source": [
        "ConfusionMatrixDisplay.from_predictions(val_simple, y_valid)\n",
        "plt.show()"
      ],
      "metadata": {
        "colab": {
          "base_uri": "https://localhost:8080/",
          "height": 279
        },
        "id": "gl_p3r0NAlR7",
        "outputId": "99f4aebf-9249-4302-8057-0d02110dbcda"
      },
      "execution_count": 66,
      "outputs": [
        {
          "output_type": "display_data",
          "data": {
            "text/plain": [
              "<Figure size 432x288 with 2 Axes>"
            ],
            "image/png": "[encoded data removed]"
          },
          "metadata": {
            "needs_background": "light"
          }
        }
      ]
    },
    {
      "cell_type": "code",
      "source": [
        "ConfusionMatrixDisplay.from_predictions(val_simple_train, y_train)\n",
        "plt.show()"
      ],
      "metadata": {
        "colab": {
          "base_uri": "https://localhost:8080/",
          "height": 279
        },
        "id": "VI9cV5Lv04UQ",
        "outputId": "a0e40962-5f34-4dc2-e80c-0def8d1b9dc1"
      },
      "execution_count": 67,
      "outputs": [
        {
          "output_type": "display_data",
          "data": {
            "text/plain": [
              "<Figure size 432x288 with 2 Axes>"
            ],
            "image/png": "[encoded data removed]"
          },
          "metadata": {
            "needs_background": "light"
          }
        }
      ]
    },
    {
      "cell_type": "code",
      "source": [
        "ConfusionMatrixDisplay.from_predictions(val_simple_test, y_test)\n",
        "plt.show()"
      ],
      "metadata": {
        "colab": {
          "base_uri": "https://localhost:8080/",
          "height": 279
        },
        "id": "64T1FAAeuMje",
        "outputId": "ba5b843c-fb3f-4676-e814-26319df936ad"
      },
      "execution_count": 68,
      "outputs": [
        {
          "output_type": "display_data",
          "data": {
            "text/plain": [
              "<Figure size 432x288 with 2 Axes>"
            ],
            "image/png": "[encoded data removed]"
          },
          "metadata": {
            "needs_background": "light"
          }
        }
      ]
    },
    {
      "cell_type": "markdown",
      "source": [
        "  (1 points) Save the trained model to disk.\n"
      ],
      "metadata": {
        "id": "ErCSB0w-VJAk"
      }
    },
    {
      "cell_type": "code",
      "source": [
        "filename3= 'Neural_network_simple.sav'\n",
        "joblib.dump(model_simple, filename3)"
      ],
      "metadata": {
        "colab": {
          "base_uri": "https://localhost:8080/"
        },
        "id": "vSsUBDZ4LtO_",
        "outputId": "485d2b50-91b8-455a-8df3-1244490c7d94"
      },
      "execution_count": 69,
      "outputs": [
        {
          "output_type": "stream",
          "name": "stdout",
          "text": [
            "INFO:tensorflow:Assets written to: ram://ea3b2198-d1b2-40da-bfe0-b4ed0f0981cb/assets\n"
          ]
        },
        {
          "output_type": "execute_result",
          "data": {
            "text/plain": [
              "['Neural_network_simple.sav']"
            ]
          },
          "metadata": {},
          "execution_count": 69
        }
      ]
    },
    {
      "cell_type": "markdown",
      "source": [
        "9 points) Build deeper neural network. Summarize the results of new model, and compare them with models in Task 4.1 & 4.2 & 4.3. \n",
        "Screen Shot 2022-06-18 at 10.04.19 AM.png"
      ],
      "metadata": {
        "id": "RQl1__yCVS-r"
      }
    },
    {
      "cell_type": "markdown",
      "source": [
        "2 points) Correctly increase model complexity of neural network by adding more hidden layers and nodes (i.e., 3 hidden layers, 1000 hidden nodes, epoch 50). "
      ],
      "metadata": {
        "id": "nIZu182LVZ3W"
      }
    },
    {
      "cell_type": "code",
      "source": [
        "from keras.layers import BatchNormalization\n"
      ],
      "metadata": {
        "id": "zrrFgtTl6HZo"
      },
      "execution_count": 70,
      "outputs": []
    },
    {
      "cell_type": "code",
      "source": [
        "model3=Sequential()"
      ],
      "metadata": {
        "id": "KwmfgWPvrMMi"
      },
      "execution_count": 71,
      "outputs": []
    },
    {
      "cell_type": "code",
      "source": [
        "model3.add(tf.keras.layers.Dense(units=1280,activation='relu',input_shape=(784,)))\n"
      ],
      "metadata": {
        "id": "C8f1x1vnrRf2"
      },
      "execution_count": 72,
      "outputs": []
    },
    {
      "cell_type": "code",
      "source": [
        "model3.add(tf.keras.layers.Dense(units=1280,activation='relu',input_shape=(784,)))"
      ],
      "metadata": {
        "id": "Gap0WQQv3kEC"
      },
      "execution_count": 73,
      "outputs": []
    },
    {
      "cell_type": "code",
      "source": [
        "model3.add(tf.keras.layers.Dense(units=1280,activation='relu',input_shape=(784,)))"
      ],
      "metadata": {
        "id": "vJVOAgIGAeZ7"
      },
      "execution_count": 74,
      "outputs": []
    },
    {
      "cell_type": "code",
      "source": [
        "model3.add(BatchNormalization())"
      ],
      "metadata": {
        "id": "PDVJti3F6Bwx"
      },
      "execution_count": 75,
      "outputs": []
    },
    {
      "cell_type": "code",
      "source": [
        "model3.add(tf.keras.layers.Dropout(0.2))"
      ],
      "metadata": {
        "id": "1qZQzmDwrpDV"
      },
      "execution_count": 76,
      "outputs": []
    },
    {
      "cell_type": "code",
      "source": [
        "model3.add(tf.keras.layers.Dense(units=10,activation='softmax'))"
      ],
      "metadata": {
        "id": "TbouZOxPr0xB"
      },
      "execution_count": 77,
      "outputs": []
    },
    {
      "cell_type": "code",
      "source": [
        "model3.compile(optimizer='adam',loss = tf.keras.losses.SparseCategoricalCrossentropy(from_logits=True), metrics=['accuracy'])"
      ],
      "metadata": {
        "id": "hXt4NhVmr902"
      },
      "execution_count": 78,
      "outputs": []
    },
    {
      "cell_type": "code",
      "source": [
        "model3.summary()"
      ],
      "metadata": {
        "colab": {
          "base_uri": "https://localhost:8080/"
        },
        "id": "Cm8iowTjsaxx",
        "outputId": "2cec5505-96f2-4b62-9116-5e4efee583ec"
      },
      "execution_count": 79,
      "outputs": [
        {
          "output_type": "stream",
          "name": "stdout",
          "text": [
            "Model: \"sequential_1\"\n",
            "_________________________________________________________________\n",
            " Layer (type)                Output Shape              Param #   \n",
            "=================================================================\n",
            " dense_2 (Dense)             (None, 1280)              1004800   \n",
            "                                                                 \n",
            " dense_3 (Dense)             (None, 1280)              1639680   \n",
            "                                                                 \n",
            " dense_4 (Dense)             (None, 1280)              1639680   \n",
            "                                                                 \n",
            " batch_normalization (BatchN  (None, 1280)             5120      \n",
            " ormalization)                                                   \n",
            "                                                                 \n",
            " dropout (Dropout)           (None, 1280)              0         \n",
            "                                                                 \n",
            " dense_5 (Dense)             (None, 10)                12810     \n",
            "                                                                 \n",
            "=================================================================\n",
            "Total params: 4,302,090\n",
            "Trainable params: 4,299,530\n",
            "Non-trainable params: 2,560\n",
            "_________________________________________________________________\n"
          ]
        }
      ]
    },
    {
      "cell_type": "code",
      "source": [
        "model3.fit(x_train_normalise_flatten,y_train,validation_data=(x_valid_flatten,y_valid),batch_size=100,epochs=50)"
      ],
      "metadata": {
        "colab": {
          "base_uri": "https://localhost:8080/"
        },
        "id": "05ld-PNzspFG",
        "outputId": "9442c9e8-21b4-40d9-c7eb-3b2479a8a9da"
      },
      "execution_count": 80,
      "outputs": [
        {
          "output_type": "stream",
          "name": "stdout",
          "text": [
            "Epoch 1/50\n"
          ]
        },
        {
          "output_type": "stream",
          "name": "stderr",
          "text": [
            "/usr/local/lib/python3.7/dist-packages/tensorflow/python/util/dispatch.py:1082: UserWarning: \"`sparse_categorical_crossentropy` received `from_logits=True`, but the `output` argument was produced by a sigmoid or softmax activation and thus does not represent logits. Was this intended?\"\n",
            "  return dispatch_target(*args, **kwargs)\n"
          ]
        },
        {
          "output_type": "stream",
          "name": "stdout",
          "text": [
            "550/550 [==============================] - 3s 4ms/step - loss: 0.5059 - accuracy: 0.8212 - val_loss: 150.7713 - val_accuracy: 0.7650\n",
            "Epoch 2/50\n",
            "550/550 [==============================] - 2s 4ms/step - loss: 0.3932 - accuracy: 0.8572 - val_loss: 98.9247 - val_accuracy: 0.7980\n",
            "Epoch 3/50\n",
            "550/550 [==============================] - 2s 4ms/step - loss: 0.3516 - accuracy: 0.8715 - val_loss: 62.8738 - val_accuracy: 0.8590\n",
            "Epoch 4/50\n",
            "550/550 [==============================] - 2s 4ms/step - loss: 0.3254 - accuracy: 0.8802 - val_loss: 96.2898 - val_accuracy: 0.8024\n",
            "Epoch 5/50\n",
            "550/550 [==============================] - 2s 4ms/step - loss: 0.3041 - accuracy: 0.8866 - val_loss: 72.3711 - val_accuracy: 0.8240\n",
            "Epoch 6/50\n",
            "550/550 [==============================] - 2s 4ms/step - loss: 0.2909 - accuracy: 0.8913 - val_loss: 68.7640 - val_accuracy: 0.8512\n",
            "Epoch 7/50\n",
            "550/550 [==============================] - 2s 4ms/step - loss: 0.2707 - accuracy: 0.8991 - val_loss: 63.8322 - val_accuracy: 0.8542\n",
            "Epoch 8/50\n",
            "550/550 [==============================] - 2s 4ms/step - loss: 0.2635 - accuracy: 0.9012 - val_loss: 86.5044 - val_accuracy: 0.8000\n",
            "Epoch 9/50\n",
            "550/550 [==============================] - 2s 4ms/step - loss: 0.2520 - accuracy: 0.9050 - val_loss: 68.0587 - val_accuracy: 0.8414\n",
            "Epoch 10/50\n",
            "550/550 [==============================] - 2s 4ms/step - loss: 0.2415 - accuracy: 0.9085 - val_loss: 58.6643 - val_accuracy: 0.8588\n",
            "Epoch 11/50\n",
            "550/550 [==============================] - 2s 4ms/step - loss: 0.2343 - accuracy: 0.9121 - val_loss: 63.1935 - val_accuracy: 0.8526\n",
            "Epoch 12/50\n",
            "550/550 [==============================] - 2s 4ms/step - loss: 0.2266 - accuracy: 0.9140 - val_loss: 61.0723 - val_accuracy: 0.8512\n",
            "Epoch 13/50\n",
            "550/550 [==============================] - 2s 4ms/step - loss: 0.2142 - accuracy: 0.9197 - val_loss: 95.3322 - val_accuracy: 0.8146\n",
            "Epoch 14/50\n",
            "550/550 [==============================] - 2s 4ms/step - loss: 0.2077 - accuracy: 0.9207 - val_loss: 74.9905 - val_accuracy: 0.8440\n",
            "Epoch 15/50\n",
            "550/550 [==============================] - 2s 4ms/step - loss: 0.1981 - accuracy: 0.9247 - val_loss: 59.1357 - val_accuracy: 0.8624\n",
            "Epoch 16/50\n",
            "550/550 [==============================] - 2s 4ms/step - loss: 0.1952 - accuracy: 0.9258 - val_loss: 87.5459 - val_accuracy: 0.8290\n",
            "Epoch 17/50\n",
            "550/550 [==============================] - 2s 4ms/step - loss: 0.1878 - accuracy: 0.9292 - val_loss: 84.0641 - val_accuracy: 0.8340\n",
            "Epoch 18/50\n",
            "550/550 [==============================] - 2s 3ms/step - loss: 0.1811 - accuracy: 0.9310 - val_loss: 61.5604 - val_accuracy: 0.8712\n",
            "Epoch 19/50\n",
            "550/550 [==============================] - 2s 4ms/step - loss: 0.1727 - accuracy: 0.9342 - val_loss: 67.3473 - val_accuracy: 0.8454\n",
            "Epoch 20/50\n",
            "550/550 [==============================] - 2s 4ms/step - loss: 0.1688 - accuracy: 0.9356 - val_loss: 71.4446 - val_accuracy: 0.8506\n",
            "Epoch 21/50\n",
            "550/550 [==============================] - 2s 4ms/step - loss: 0.1579 - accuracy: 0.9389 - val_loss: 62.2104 - val_accuracy: 0.8654\n",
            "Epoch 22/50\n",
            "550/550 [==============================] - 2s 4ms/step - loss: 0.1571 - accuracy: 0.9398 - val_loss: 58.2086 - val_accuracy: 0.8746\n",
            "Epoch 23/50\n",
            "550/550 [==============================] - 2s 4ms/step - loss: 0.1484 - accuracy: 0.9426 - val_loss: 55.9552 - val_accuracy: 0.8628\n",
            "Epoch 24/50\n",
            "550/550 [==============================] - 2s 4ms/step - loss: 0.1472 - accuracy: 0.9430 - val_loss: 75.2943 - val_accuracy: 0.8534\n",
            "Epoch 25/50\n",
            "550/550 [==============================] - 2s 4ms/step - loss: 0.1414 - accuracy: 0.9456 - val_loss: 61.5178 - val_accuracy: 0.8576\n",
            "Epoch 26/50\n",
            "550/550 [==============================] - 2s 4ms/step - loss: 0.1347 - accuracy: 0.9480 - val_loss: 61.6192 - val_accuracy: 0.8720\n",
            "Epoch 27/50\n",
            "550/550 [==============================] - 2s 4ms/step - loss: 0.1286 - accuracy: 0.9506 - val_loss: 64.1498 - val_accuracy: 0.8822\n",
            "Epoch 28/50\n",
            "550/550 [==============================] - 2s 4ms/step - loss: 0.1269 - accuracy: 0.9512 - val_loss: 108.5028 - val_accuracy: 0.8460\n",
            "Epoch 29/50\n",
            "550/550 [==============================] - 2s 4ms/step - loss: 0.1255 - accuracy: 0.9518 - val_loss: 69.4760 - val_accuracy: 0.8684\n",
            "Epoch 30/50\n",
            "550/550 [==============================] - 2s 4ms/step - loss: 0.1183 - accuracy: 0.9543 - val_loss: 68.1077 - val_accuracy: 0.8712\n",
            "Epoch 31/50\n",
            "550/550 [==============================] - 2s 4ms/step - loss: 0.1139 - accuracy: 0.9561 - val_loss: 73.2079 - val_accuracy: 0.8666\n",
            "Epoch 32/50\n",
            "550/550 [==============================] - 2s 4ms/step - loss: 0.1110 - accuracy: 0.9570 - val_loss: 79.0424 - val_accuracy: 0.8538\n",
            "Epoch 33/50\n",
            "550/550 [==============================] - 2s 4ms/step - loss: 0.1085 - accuracy: 0.9583 - val_loss: 95.5084 - val_accuracy: 0.8444\n",
            "Epoch 34/50\n",
            "550/550 [==============================] - 2s 4ms/step - loss: 0.1033 - accuracy: 0.9599 - val_loss: 89.4408 - val_accuracy: 0.8552\n",
            "Epoch 35/50\n",
            "550/550 [==============================] - 2s 4ms/step - loss: 0.1000 - accuracy: 0.9611 - val_loss: 93.6313 - val_accuracy: 0.8540\n",
            "Epoch 36/50\n",
            "550/550 [==============================] - 2s 4ms/step - loss: 0.0937 - accuracy: 0.9633 - val_loss: 100.3466 - val_accuracy: 0.8454\n",
            "Epoch 37/50\n",
            "550/550 [==============================] - 2s 4ms/step - loss: 0.0958 - accuracy: 0.9634 - val_loss: 104.3502 - val_accuracy: 0.8386\n",
            "Epoch 38/50\n",
            "550/550 [==============================] - 2s 4ms/step - loss: 0.0904 - accuracy: 0.9653 - val_loss: 88.3232 - val_accuracy: 0.8540\n",
            "Epoch 39/50\n",
            "550/550 [==============================] - 2s 4ms/step - loss: 0.0888 - accuracy: 0.9652 - val_loss: 95.0565 - val_accuracy: 0.8682\n",
            "Epoch 40/50\n",
            "550/550 [==============================] - 2s 4ms/step - loss: 0.0841 - accuracy: 0.9677 - val_loss: 101.5423 - val_accuracy: 0.8482\n",
            "Epoch 41/50\n",
            "550/550 [==============================] - 2s 4ms/step - loss: 0.0811 - accuracy: 0.9682 - val_loss: 86.5907 - val_accuracy: 0.8628\n",
            "Epoch 42/50\n",
            "550/550 [==============================] - 2s 4ms/step - loss: 0.0820 - accuracy: 0.9685 - val_loss: 90.8847 - val_accuracy: 0.8582\n",
            "Epoch 43/50\n",
            "550/550 [==============================] - 2s 4ms/step - loss: 0.0726 - accuracy: 0.9720 - val_loss: 105.1107 - val_accuracy: 0.8588\n",
            "Epoch 44/50\n",
            "550/550 [==============================] - 2s 4ms/step - loss: 0.0779 - accuracy: 0.9701 - val_loss: 88.2052 - val_accuracy: 0.8708\n",
            "Epoch 45/50\n",
            "550/550 [==============================] - 2s 4ms/step - loss: 0.0720 - accuracy: 0.9722 - val_loss: 88.4427 - val_accuracy: 0.8682\n",
            "Epoch 46/50\n",
            "550/550 [==============================] - 2s 4ms/step - loss: 0.0709 - accuracy: 0.9724 - val_loss: 121.0154 - val_accuracy: 0.8370\n",
            "Epoch 47/50\n",
            "550/550 [==============================] - 2s 4ms/step - loss: 0.0734 - accuracy: 0.9714 - val_loss: 105.1074 - val_accuracy: 0.8520\n",
            "Epoch 48/50\n",
            "550/550 [==============================] - 2s 4ms/step - loss: 0.0645 - accuracy: 0.9758 - val_loss: 124.5725 - val_accuracy: 0.8436\n",
            "Epoch 49/50\n",
            "550/550 [==============================] - 2s 4ms/step - loss: 0.0639 - accuracy: 0.9748 - val_loss: 119.0374 - val_accuracy: 0.8502\n",
            "Epoch 50/50\n",
            "550/550 [==============================] - 2s 4ms/step - loss: 0.0684 - accuracy: 0.9743 - val_loss: 109.3341 - val_accuracy: 0.8610\n"
          ]
        },
        {
          "output_type": "execute_result",
          "data": {
            "text/plain": [
              "<keras.callbacks.History at 0x7ff46038a110>"
            ]
          },
          "metadata": {},
          "execution_count": 80
        }
      ]
    },
    {
      "cell_type": "markdown",
      "source": [
        "( 2 points) Calculate the overall accuracy of the predictions over training set and validation set. "
      ],
      "metadata": {
        "id": "PZUkJ8XzVjRb"
      }
    },
    {
      "cell_type": "code",
      "source": [
        "model3.evaluate(x_test_normalise_flatten,y_test)"
      ],
      "metadata": {
        "colab": {
          "base_uri": "https://localhost:8080/"
        },
        "id": "S-EsU4_Tw5Vy",
        "outputId": "98307eac-0423-423b-80b0-771ac96ab86d"
      },
      "execution_count": 81,
      "outputs": [
        {
          "output_type": "stream",
          "name": "stdout",
          "text": [
            " 38/313 [==>...........................] - ETA: 0s - loss: 0.4906 - accuracy: 0.9046"
          ]
        },
        {
          "output_type": "stream",
          "name": "stderr",
          "text": [
            "/usr/local/lib/python3.7/dist-packages/tensorflow/python/util/dispatch.py:1082: UserWarning: \"`sparse_categorical_crossentropy` received `from_logits=True`, but the `output` argument was produced by a sigmoid or softmax activation and thus does not represent logits. Was this intended?\"\n",
            "  return dispatch_target(*args, **kwargs)\n"
          ]
        },
        {
          "output_type": "stream",
          "name": "stdout",
          "text": [
            "313/313 [==============================] - 1s 3ms/step - loss: 0.5365 - accuracy: 0.8995\n"
          ]
        },
        {
          "output_type": "execute_result",
          "data": {
            "text/plain": [
              "[0.5364933013916016, 0.8995000123977661]"
            ]
          },
          "metadata": {},
          "execution_count": 81
        }
      ]
    },
    {
      "cell_type": "code",
      "source": [
        "model3.evaluate(x_train_normalise_flatten,y_train)"
      ],
      "metadata": {
        "colab": {
          "base_uri": "https://localhost:8080/"
        },
        "id": "0aEY4xyt5TG3",
        "outputId": "73177f3d-090b-436e-8519-fc5ea81548f7"
      },
      "execution_count": 82,
      "outputs": [
        {
          "output_type": "stream",
          "name": "stdout",
          "text": [
            "1719/1719 [==============================] - 5s 3ms/step - loss: 0.0438 - accuracy: 0.9836\n"
          ]
        },
        {
          "output_type": "execute_result",
          "data": {
            "text/plain": [
              "[0.0437617227435112, 0.9835818409919739]"
            ]
          },
          "metadata": {},
          "execution_count": 82
        }
      ]
    },
    {
      "cell_type": "code",
      "source": [
        "model3.evaluate(x_valid_normalise_flatten,y_valid)"
      ],
      "metadata": {
        "colab": {
          "base_uri": "https://localhost:8080/"
        },
        "id": "GjNIR2g45cKQ",
        "outputId": "7e9ff035-fc78-4188-9e2b-65cc715041ab"
      },
      "execution_count": 83,
      "outputs": [
        {
          "output_type": "stream",
          "name": "stdout",
          "text": [
            "157/157 [==============================] - 0s 3ms/step - loss: 0.5141 - accuracy: 0.9024\n"
          ]
        },
        {
          "output_type": "execute_result",
          "data": {
            "text/plain": [
              "[0.5141087174415588, 0.902400016784668]"
            ]
          },
          "metadata": {},
          "execution_count": 83
        }
      ]
    },
    {
      "cell_type": "code",
      "source": [
        "val=np.argmax(model3.predict(x_valid_normalise_flatten),axis=1)"
      ],
      "metadata": {
        "id": "nPCjsbSYxQCf"
      },
      "execution_count": 84,
      "outputs": []
    },
    {
      "cell_type": "code",
      "source": [
        "val_test=np.argmax(model3.predict(x_test_normalise_flatten),axis=1)"
      ],
      "metadata": {
        "id": "CFXt7LXShdYm"
      },
      "execution_count": 85,
      "outputs": []
    },
    {
      "cell_type": "code",
      "source": [
        "val_train=np.argmax(model3.predict(x_train_normalise_flatten),axis=1)"
      ],
      "metadata": {
        "id": "yfTuT0qmv1I1"
      },
      "execution_count": 86,
      "outputs": []
    },
    {
      "cell_type": "markdown",
      "source": [
        ""
      ],
      "metadata": {
        "id": "wdHagl_n1vN0"
      }
    },
    {
      "cell_type": "markdown",
      "source": [
        " (2 points) Calculate the overall accuracy of the predictions over training set and validation set. "
      ],
      "metadata": {
        "id": "7Y0YLHTM1uZr"
      }
    },
    {
      "cell_type": "code",
      "source": [
        "accuracy_train,per_train_acc=evaluate_accuracy(y_train,val_train)\n",
        "accuracy_valid,per_valid_acc=evaluate_accuracy(y_valid,val)\n",
        "accuracy_test,per_test_acc=evaluate_accuracy(y_test,val_test)"
      ],
      "metadata": {
        "id": "GghKLiskvn4q"
      },
      "execution_count": 87,
      "outputs": []
    },
    {
      "cell_type": "code",
      "source": [
        "print(accuracy_test)\n",
        "print(accuracy_train)\n",
        "print(accuracy_valid)"
      ],
      "metadata": {
        "colab": {
          "base_uri": "https://localhost:8080/"
        },
        "id": "Ws0T3DagwTXZ",
        "outputId": "1cadd857-0dd6-406e-9e6d-c9f590dedc9c"
      },
      "execution_count": 88,
      "outputs": [
        {
          "output_type": "stream",
          "name": "stdout",
          "text": [
            "0.8995\n",
            "0.9835818181818182\n",
            "0.9024\n"
          ]
        }
      ]
    },
    {
      "cell_type": "markdown",
      "source": [
        "(2 points) Calculate the per-class accuracy of the predictions over training set and validation set. For instance, among images of every class, how many of them are correctly predicted. "
      ],
      "metadata": {
        "id": "w4pVvB_o1zZ6"
      }
    },
    {
      "cell_type": "code",
      "source": [
        "print(\"per_class_accruacy_train: \",per_train_acc)\n",
        "print(\" \")\n",
        "print(\"per_class_accruacy_test: \",per_test_acc)\n",
        "print(\" \")\n",
        "print(\"per_class_accruacy_valid: \",per_valid_acc)"
      ],
      "metadata": {
        "colab": {
          "base_uri": "https://localhost:8080/"
        },
        "id": "wNGci92mwfYa",
        "outputId": "aeedd65a-82f3-4b1c-eb9c-f3143d7d2410"
      },
      "execution_count": 89,
      "outputs": [
        {
          "output_type": "stream",
          "name": "stdout",
          "text": [
            "per_class_accruacy_train:  [0.96824824 0.99981631 0.93977438 0.98381524 0.98566763 0.99981841\n",
            " 0.96804068 0.99453353 0.99927405 0.99708773]\n",
            " \n",
            "per_class_accruacy_test:  [0.831 0.978 0.787 0.88  0.877 0.977 0.761 0.963 0.975 0.966]\n",
            " \n",
            "per_class_accruacy_valid:  [0.8380744  0.98201439 0.7718254  0.89221557 0.87704918 0.98377282\n",
            " 0.73833671 0.96875    0.98163265 0.9743083 ]\n"
          ]
        }
      ]
    },
    {
      "cell_type": "markdown",
      "source": [
        "(2 points) Visualize the classification confusion matrix to check the details of the predictions for each class over test set (10000 images). Report the classification accuracy on test set."
      ],
      "metadata": {
        "id": "0X56IMeO12Sk"
      }
    },
    {
      "cell_type": "code",
      "source": [
        "ConfusionMatrixDisplay.from_predictions(val, y_valid)\n",
        "plt.show()"
      ],
      "metadata": {
        "colab": {
          "base_uri": "https://localhost:8080/",
          "height": 279
        },
        "id": "061w4WZp5V7s",
        "outputId": "e7226d07-1942-4a47-cf28-e2855795fb43"
      },
      "execution_count": 90,
      "outputs": [
        {
          "output_type": "display_data",
          "data": {
            "text/plain": [
              "<Figure size 432x288 with 2 Axes>"
            ],
            "image/png": "[encoded data removed]"
          },
          "metadata": {
            "needs_background": "light"
          }
        }
      ]
    },
    {
      "cell_type": "code",
      "source": [
        "ConfusionMatrixDisplay.from_predictions(val_train, y_train)\n",
        "plt.show()"
      ],
      "metadata": {
        "colab": {
          "base_uri": "https://localhost:8080/",
          "height": 279
        },
        "id": "TRjINlZghsGx",
        "outputId": "70ce02c1-6645-4140-8ca1-b8e0414d2f64"
      },
      "execution_count": 91,
      "outputs": [
        {
          "output_type": "display_data",
          "data": {
            "text/plain": [
              "<Figure size 432x288 with 2 Axes>"
            ],
            "image/png": "[encoded data removed]"
          },
          "metadata": {
            "needs_background": "light"
          }
        }
      ]
    },
    {
      "cell_type": "code",
      "source": [
        "ConfusionMatrixDisplay.from_predictions(val_test, y_test)\n",
        "plt.show()"
      ],
      "metadata": {
        "colab": {
          "base_uri": "https://localhost:8080/",
          "height": 279
        },
        "id": "GnnvItNI5gso",
        "outputId": "7f69860b-2bf3-4ada-be18-6b8974f0e894"
      },
      "execution_count": 92,
      "outputs": [
        {
          "output_type": "display_data",
          "data": {
            "text/plain": [
              "<Figure size 432x288 with 2 Axes>"
            ],
            "image/png": "[encoded data removed]"
          },
          "metadata": {
            "needs_background": "light"
          }
        }
      ]
    },
    {
      "cell_type": "markdown",
      "source": [
        "(1 points) Save the trained model to disk."
      ],
      "metadata": {
        "id": "XpZkdrEk17BW"
      }
    },
    {
      "cell_type": "code",
      "source": [
        "filename3= 'Neural_network.sav'\n",
        "joblib.dump(model3, filename3)"
      ],
      "metadata": {
        "colab": {
          "base_uri": "https://localhost:8080/"
        },
        "id": "aNSXOxsC6v7X",
        "outputId": "f5978a25-1064-4b02-a26d-3811ca02272d"
      },
      "execution_count": 93,
      "outputs": [
        {
          "output_type": "stream",
          "name": "stdout",
          "text": [
            "INFO:tensorflow:Assets written to: ram://7cfded54-cbe6-4efe-b5b5-306e325db470/assets\n"
          ]
        },
        {
          "output_type": "execute_result",
          "data": {
            "text/plain": [
              "['Neural_network.sav']"
            ]
          },
          "metadata": {},
          "execution_count": 93
        }
      ]
    },
    {
      "cell_type": "code",
      "source": [
        "loaded_model = joblib.load(filename3)\n",
        "result1 = np.argmax(loaded_model.predict(x_test_normalise_flatten),axis=1)"
      ],
      "metadata": {
        "id": "9hsGOZ6m7AtE"
      },
      "execution_count": 94,
      "outputs": []
    },
    {
      "cell_type": "code",
      "source": [
        "loaded_model = joblib.load(filename3)\n",
        "pred_proba = loaded_model.predict(x_test_normalise_flatten)\n"
      ],
      "metadata": {
        "id": "J7W01Cik6r09"
      },
      "execution_count": 95,
      "outputs": []
    },
    {
      "cell_type": "code",
      "source": [
        "result1"
      ],
      "metadata": {
        "id": "-rRoNqvGIFXr",
        "colab": {
          "base_uri": "https://localhost:8080/"
        },
        "outputId": "ec17c858-a057-45c1-8edc-e817a6ccda91"
      },
      "execution_count": 96,
      "outputs": [
        {
          "output_type": "execute_result",
          "data": {
            "text/plain": [
              "array([9, 2, 1, ..., 8, 1, 5])"
            ]
          },
          "metadata": {},
          "execution_count": 96
        }
      ]
    },
    {
      "cell_type": "code",
      "source": [
        "!pip install --quiet gradio"
      ],
      "metadata": {
        "id": "L_Aj-2gaGvft",
        "colab": {
          "base_uri": "https://localhost:8080/"
        },
        "outputId": "5c263e04-ee81-41ac-81b4-578bc978307e"
      },
      "execution_count": 97,
      "outputs": [
        {
          "output_type": "stream",
          "name": "stdout",
          "text": [
            "\u001b[K     |████████████████████████████████| 5.1 MB 7.6 MB/s \n",
            "\u001b[K     |████████████████████████████████| 57 kB 6.1 MB/s \n",
            "\u001b[K     |████████████████████████████████| 84 kB 3.9 MB/s \n",
            "\u001b[K     |████████████████████████████████| 140 kB 72.0 MB/s \n",
            "\u001b[K     |████████████████████████████████| 1.1 MB 64.5 MB/s \n",
            "\u001b[K     |████████████████████████████████| 212 kB 73.7 MB/s \n",
            "\u001b[K     |████████████████████████████████| 54 kB 3.9 MB/s \n",
            "\u001b[K     |████████████████████████████████| 256 kB 73.6 MB/s \n",
            "\u001b[K     |████████████████████████████████| 2.3 MB 47.8 MB/s \n",
            "\u001b[K     |████████████████████████████████| 271 kB 74.5 MB/s \n",
            "\u001b[K     |████████████████████████████████| 144 kB 80.5 MB/s \n",
            "\u001b[K     |████████████████████████████████| 94 kB 4.2 MB/s \n",
            "\u001b[K     |████████████████████████████████| 63 kB 2.3 MB/s \n",
            "\u001b[K     |████████████████████████████████| 80 kB 10.9 MB/s \n",
            "\u001b[K     |████████████████████████████████| 43 kB 2.5 MB/s \n",
            "\u001b[K     |████████████████████████████████| 62 kB 1.2 MB/s \n",
            "\u001b[K     |████████████████████████████████| 4.0 MB 58.9 MB/s \n",
            "\u001b[K     |████████████████████████████████| 856 kB 62.1 MB/s \n",
            "\u001b[K     |████████████████████████████████| 58 kB 6.4 MB/s \n",
            "\u001b[?25h  Building wheel for ffmpy (setup.py) ... \u001b[?25l\u001b[?25hdone\n",
            "  Building wheel for python-multipart (setup.py) ... \u001b[?25l\u001b[?25hdone\n"
          ]
        }
      ]
    },
    {
      "cell_type": "code",
      "source": [
        "import gradio as gr\n",
        "import cv2\n",
        "import os"
      ],
      "metadata": {
        "id": "SrVvO4OTG1wc"
      },
      "execution_count": 98,
      "outputs": []
    },
    {
      "cell_type": "code",
      "source": [
        "input_module1 = gr.inputs.Image(shape=(28, 28),label = \"Input Image\",  image_mode='L')\n",
        "input_module7 = gr.inputs.Dropdown(choices=[\"Knmodel.sav\", \"softmax.sav\", \"Neural_network.sav\",'Neural_network_simple.sav'])"
      ],
      "metadata": {
        "colab": {
          "base_uri": "https://localhost:8080/"
        },
        "id": "7EWZMy-aGp-S",
        "outputId": "26ebe00d-5930-42b2-9cd9-45703339ed0c"
      },
      "execution_count": 99,
      "outputs": [
        {
          "output_type": "stream",
          "name": "stderr",
          "text": [
            "/usr/local/lib/python3.7/dist-packages/gradio/deprecation.py:40: UserWarning: `optional` parameter is deprecated, and it has no effect\n",
            "  warnings.warn(value)\n"
          ]
        }
      ]
    },
    {
      "cell_type": "code",
      "source": [
        "output_module1 = gr.outputs.Textbox(label = \"Output Text\")\n",
        "output_module2=gr.outputs.Label(num_top_classes=10)"
      ],
      "metadata": {
        "colab": {
          "base_uri": "https://localhost:8080/"
        },
        "id": "r1R-1KHkHBCR",
        "outputId": "06ad6614-5686-4449-e6b6-1f1040f570d0"
      },
      "execution_count": 100,
      "outputs": [
        {
          "output_type": "stream",
          "name": "stderr",
          "text": [
            "/usr/local/lib/python3.7/dist-packages/gradio/deprecation.py:40: UserWarning: The 'type' parameter has been deprecated. Use the Number component instead.\n",
            "  warnings.warn(value)\n"
          ]
        }
      ]
    },
    {
      "cell_type": "code",
      "source": [
        "def multi_inputs(input1,file_val):\n",
        "  input_val=input1\n",
        "  if file_val == 'Neural_network.sav':\n",
        "    x_input_normalise=input_val/255.0\n",
        "    x_input_normalise_flatten= x_input_normalise.reshape(-1,28*28)\n",
        "    loaded_model = joblib.load(file_val)\n",
        "    probability_value=loaded_model.predict(x_input_normalise_flatten)\n",
        "    probability_value=probability_value.flatten()\n",
        "    result1 = np.argmax(loaded_model.predict(x_input_normalise_flatten),axis=1)\n",
        "    return {class_names[i]: float(probability_value[i]) for i in range(10)}\n",
        "  elif file_val == 'softmax.sav':\n",
        "    input_val_flatten= input_val.reshape(-1,28*28)\n",
        "    loaded_model = joblib.load(file_val)\n",
        "    y_pred = loaded_model.predict(input_val_flatten)\n",
        "    prediction_prob=softmax_regression.predict_proba(input_val_flatten)\n",
        "    prediction_prob=prediction_prob.flatten()\n",
        "    return {class_names[i]: float(prediction_prob[i]) for i in range(10)}\n",
        "  elif file_val == 'Neural_network_simple.sav':\n",
        "    print(\"saravna\")\n",
        "    x_input_normalise=input_val/255.0\n",
        "    x_input_normalise_flatten= x_input_normalise.reshape(-1,28*28)\n",
        "    loaded_model = joblib.load(file_val)\n",
        "    probability_value=loaded_model.predict(x_input_normalise_flatten)\n",
        "    probability_value=probability_value.flatten()\n",
        "    result1 = np.argmax(loaded_model.predict(x_input_normalise_flatten),axis=1)\n",
        "    return {class_names[i]: float(probability_value[i]) for i in range(10)}\n",
        "\n",
        "  else:\n",
        "    input_val_flatten=input_val.flatten().reshape(1,28*28)\n",
        "    loaded_model = joblib.load(filename4)\n",
        "    result = loaded_model.predict(input_val_flatten)\n",
        "    prediction_prob=KNN_classifier.predict_proba(input_val_flatten)\n",
        "    prediction_prob=prediction_prob.flatten()\n",
        "    return {class_names[i]: float(prediction_prob[i]) for i in range(10)}\n",
        "\n"
      ],
      "metadata": {
        "id": "b-YcqG-BHFBX"
      },
      "execution_count": 101,
      "outputs": []
    },
    {
      "cell_type": "code",
      "source": [
        "result1.dtype"
      ],
      "metadata": {
        "id": "r5AvabX6Mip1",
        "colab": {
          "base_uri": "https://localhost:8080/"
        },
        "outputId": "d536a298-9d46-4328-8cee-d5b2188711ac"
      },
      "execution_count": 102,
      "outputs": [
        {
          "output_type": "execute_result",
          "data": {
            "text/plain": [
              "dtype('int64')"
            ]
          },
          "metadata": {},
          "execution_count": 102
        }
      ]
    },
    {
      "cell_type": "code",
      "source": [
        "def get_sample_images(num_images):\n",
        "    sample_images = []\n",
        "    for i in range(num_images):\n",
        "      test_feature = x_test[i]\n",
        "      test_feature_2d =test_feature.flatten().reshape(28,28)\n",
        "    \n",
        "      # Make it unsigned integers:\n",
        "      data = test_feature_2d.astype(np.uint8)\n",
        "\n",
        "      outdir =  \"images_folder\"\n",
        "      img_path = os.path.join(outdir, 'local_%05d.png' % (i,))\n",
        "      if not os.path.exists(outdir):\n",
        "         os.mkdir(outdir)\n",
        "      cv2.imwrite(img_path, data)\n",
        "\n",
        "      sample_images.append([img_path,int(np.random.choice([7,9,11,13,15,24]))])   # [\"image path\", \"K\"]\n",
        "    return sample_images"
      ],
      "metadata": {
        "id": "eXiz4FFaHoYp"
      },
      "execution_count": 103,
      "outputs": []
    },
    {
      "cell_type": "code",
      "source": [
        "sample_images = get_sample_images(10)"
      ],
      "metadata": {
        "id": "n5eDFMdmHsdH"
      },
      "execution_count": 104,
      "outputs": []
    },
    {
      "cell_type": "code",
      "source": [
        "for i in range(1,10):\n",
        "  print(class_names[y_test[i]])"
      ],
      "metadata": {
        "colab": {
          "base_uri": "https://localhost:8080/"
        },
        "id": "pfVb6HE7NfTe",
        "outputId": "d4b0479d-a250-4eb2-870e-0998301386e7"
      },
      "execution_count": 105,
      "outputs": [
        {
          "output_type": "stream",
          "name": "stdout",
          "text": [
            "Pullover\n",
            "Trouser\n",
            "Trouser\n",
            "Shirt\n",
            "Trouser\n",
            "Coat\n",
            "Shirt\n",
            "Sandal\n",
            "Sneaker\n"
          ]
        }
      ]
    },
    {
      "cell_type": "code",
      "source": [
        "gr.Interface(fn=multi_inputs, \n",
        "             inputs=[input_module1,input_module7], \n",
        "             outputs=[output_module2],\n",
        "             examples=sample_images\n",
        "            ).launch()"
      ],
      "metadata": {
        "colab": {
          "base_uri": "https://localhost:8080/",
          "height": 642
        },
        "id": "zcdFK_dgHvGP",
        "outputId": "6888099b-96e8-43d6-ea69-fe7784a13951"
      },
      "execution_count": 106,
      "outputs": [
        {
          "output_type": "stream",
          "name": "stdout",
          "text": [
            "Colab notebook detected. To show errors in colab notebook, set `debug=True` in `launch()`\n",
            "Running on public URL: https://56526.gradio.app\n",
            "\n",
            "This share link expires in 72 hours. For free permanent hosting, check out Spaces (https://huggingface.co/spaces)\n"
          ]
        },
        {
          "output_type": "display_data",
          "data": {
            "text/plain": [
              "<IPython.core.display.HTML object>"
            ],
            "text/html": [
              "<div><iframe src=\"https://56526.gradio.app\" width=\"900\" height=\"500\" allow=\"autoplay; camera; microphone;\" frameborder=\"0\" allowfullscreen></iframe></div>"
            ]
          },
          "metadata": {}
        },
        {
          "output_type": "execute_result",
          "data": {
            "text/plain": [
              "(<gradio.routes.App at 0x7ff33f722ed0>,\n",
              " 'http://127.0.0.1:7860/',\n",
              " 'https://56526.gradio.app')"
            ]
          },
          "metadata": {},
          "execution_count": 106
        }
      ]
    }
  ]
}
