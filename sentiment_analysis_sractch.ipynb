{
  "nbformat": 4,
  "nbformat_minor": 0,
  "metadata": {
    "colab": {
      "name": "sentiment_analysis_sractch.ipynb",
      "provenance": [],
      "authorship_tag": "ABX9TyOiCXfMEzo8ActbKwnfYOb9",
      "include_colab_link": true
    },
    "kernelspec": {
      "name": "python3",
      "display_name": "Python 3"
    },
    "language_info": {
      "name": "python"
    }
  },
  "cells": [
    {
      "cell_type": "markdown",
      "metadata": {
        "id": "view-in-github",
        "colab_type": "text"
      },
      "source": [
        "<a href=\"https://colab.research.google.com/github/saravanamuthu1/Machine_learning/blob/main/sentiment_analysis_sractch.ipynb\" target=\"_parent\"><img src=\"https://colab.research.google.com/assets/colab-badge.svg\" alt=\"Open In Colab\"/></a>"
      ]
    },
    {
      "cell_type": "code",
      "execution_count": 106,
      "metadata": {
        "id": "NsmTGAPZpG6h"
      },
      "outputs": [],
      "source": [
        "mylist=[]\n",
        "label=[]\n",
        "value1=[]\n",
        "testfile = open('train-v2.tsv', 'r')\n",
        "for line in testfile:\n",
        "  value=line.rstrip(\"\\n\").split(\"\\t\")\n",
        "  mylist.append(line.rstrip(\"\\n\").split(\"\\t\"))\n",
        "  label.append(value[0])\n",
        "  value1.append(value[1])"
      ]
    },
    {
      "cell_type": "code",
      "source": [
        "print(len(label))\n",
        "print(len(value1))\n",
        "print(len(mylist))"
      ],
      "metadata": {
        "colab": {
          "base_uri": "https://localhost:8080/"
        },
        "id": "QcP8kukJtWa0",
        "outputId": "542a610e-7b43-4773-bad5-f27f0eb36111"
      },
      "execution_count": 108,
      "outputs": [
        {
          "output_type": "stream",
          "name": "stdout",
          "text": [
            "80000\n",
            "80000\n",
            "80000\n"
          ]
        }
      ]
    },
    {
      "cell_type": "code",
      "source": [
        "train_set,test_set=value1[10000:80000],value1[0:10000]\n",
        "train_label,test_lable=label[10000:80000],label[0:10000]"
      ],
      "metadata": {
        "id": "SZKD6lt6_N8K"
      },
      "execution_count": 109,
      "outputs": []
    },
    {
      "cell_type": "code",
      "source": [
        "def remove_word(list_to_be_removed):\n",
        "  for i,j in enumerate(list_to_be_removed):\n",
        "    text = j.replace(\"@USER\", \"\")\n",
        "    list_to_be_removed.insert(i,text)\n",
        "  return list_to_be_removed\n",
        "\n",
        "\n"
      ],
      "metadata": {
        "id": "y5sFeLB-Co1_"
      },
      "execution_count": 110,
      "outputs": []
    },
    {
      "cell_type": "markdown",
      "source": [
        "tokenize data"
      ],
      "metadata": {
        "id": "PHlY4eDWI1w1"
      }
    },
    {
      "cell_type": "code",
      "source": [
        "dict1={}\n",
        "dict2={}\n",
        "for i in mylist:\n",
        "  if i[0] == \"0\":\n",
        "    tweet=i[1].split(\" \")\n",
        "    for word in tweet:\n",
        "      if word in dict1:\n",
        "        dict1[word]+=1\n",
        "      else:\n",
        "        dict1[word] = 1\n",
        "  elif i[0] == \"1\":\n",
        "    tweet=i[1].split(\" \")\n",
        "    for word in tweet:\n",
        "      if word in dict2:\n",
        "        dict2[word]+=1\n",
        "      else:\n",
        "        dict2[word] = 1\n"
      ],
      "metadata": {
        "id": "bnmwN_VnEEm8"
      },
      "execution_count": 119,
      "outputs": []
    },
    {
      "cell_type": "code",
      "source": [
        "dict1.pop(\"@USER\")\n",
        "dict2.pop(\"@USER\")"
      ],
      "metadata": {
        "colab": {
          "base_uri": "https://localhost:8080/"
        },
        "id": "XNFbmvNhG7_K",
        "outputId": "0a2ed75a-75de-4723-e93d-9da6d67b7a72"
      },
      "execution_count": 121,
      "outputs": [
        {
          "output_type": "execute_result",
          "data": {
            "text/plain": [
              "42688"
            ]
          },
          "metadata": {},
          "execution_count": 121
        }
      ]
    },
    {
      "cell_type": "markdown",
      "source": [
        "get the probability"
      ],
      "metadata": {
        "id": "tLalRUlmI6Rd"
      }
    },
    {
      "cell_type": "markdown",
      "source": [],
      "metadata": {
        "id": "dMTbciCCI-Me"
      }
    }
  ]
}