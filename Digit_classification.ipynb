{
  "nbformat": 4,
  "nbformat_minor": 0,
  "metadata": {
    "colab": {
      "name": "mlhw2.ipynb",
      "provenance": []
    },
    "kernelspec": {
      "name": "python3",
      "display_name": "Python 3"
    },
    "language_info": {
      "name": "python"
    }
  },
  "cells": [
    {
      "cell_type": "code",
      "execution_count": 4,
      "metadata": {
        "colab": {
          "base_uri": "https://localhost:8080/"
        },
        "id": "Wj2pfN0HFwtm",
        "outputId": "e95c692b-2a02-4b90-fb37-9673ff8a38b8"
      },
      "outputs": [
        {
          "output_type": "stream",
          "name": "stdout",
          "text": [
            "\u001b[K     |████████████████████████████████| 5.1 MB 5.2 MB/s \n",
            "\u001b[K     |████████████████████████████████| 212 kB 54.0 MB/s \n",
            "\u001b[K     |████████████████████████████████| 1.1 MB 61.9 MB/s \n",
            "\u001b[K     |████████████████████████████████| 54 kB 2.9 MB/s \n",
            "\u001b[K     |████████████████████████████████| 256 kB 38.0 MB/s \n",
            "\u001b[K     |████████████████████████████████| 53 kB 1.9 MB/s \n",
            "\u001b[K     |████████████████████████████████| 2.0 MB 43.7 MB/s \n",
            "\u001b[K     |████████████████████████████████| 84 kB 2.9 MB/s \n",
            "\u001b[K     |████████████████████████████████| 271 kB 37.6 MB/s \n",
            "\u001b[K     |████████████████████████████████| 144 kB 46.0 MB/s \n",
            "\u001b[K     |████████████████████████████████| 94 kB 2.9 MB/s \n",
            "\u001b[K     |████████████████████████████████| 63 kB 1.5 MB/s \n",
            "\u001b[K     |████████████████████████████████| 11.1 MB 32.1 MB/s \n",
            "\u001b[K     |████████████████████████████████| 80 kB 7.7 MB/s \n",
            "\u001b[K     |████████████████████████████████| 43 kB 1.5 MB/s \n",
            "\u001b[K     |████████████████████████████████| 856 kB 49.3 MB/s \n",
            "\u001b[K     |████████████████████████████████| 62 kB 791 kB/s \n",
            "\u001b[K     |████████████████████████████████| 4.0 MB 29.9 MB/s \n",
            "\u001b[K     |████████████████████████████████| 58 kB 4.5 MB/s \n",
            "\u001b[?25h  Building wheel for ffmpy (setup.py) ... \u001b[?25l\u001b[?25hdone\n",
            "  Building wheel for python-multipart (setup.py) ... \u001b[?25l\u001b[?25hdone\n"
          ]
        }
      ],
      "source": [
        "!pip install --quiet gradio"
      ]
    },
    {
      "cell_type": "code",
      "source": [
        "import tensorflow as tf\n",
        "from matplotlib import pyplot as plt\n",
        "import matplotlib as mpl\n",
        "import pandas as pd\n",
        "import numpy as np\n",
        "import scipy\n",
        "import sklearn\n",
        "from sklearn.neighbors import KNeighborsClassifier\n",
        "from sklearn.metrics import ConfusionMatrixDisplay\n",
        "from sklearn.exceptions import NotFittedError\n",
        "import gradio as gr\n",
        "import cv2\n",
        "import os"
      ],
      "metadata": {
        "id": "KyJ-Wt13GC6C"
      },
      "execution_count": 5,
      "outputs": []
    },
    {
      "cell_type": "markdown",
      "source": [
        " Step 1 (5 points) Prepare the MNIST dataset"
      ],
      "metadata": {
        "id": "T-sS0FTrpAbt"
      }
    },
    {
      "cell_type": "code",
      "source": [
        "(x_train, y_train), (x_test, y_test) = tf.keras.datasets.mnist.load_data()\n",
        "assert x_train.shape == (60000, 28, 28)\n",
        "assert x_test.shape == (10000, 28, 28)\n",
        "assert y_train.shape == (60000,)\n",
        "assert y_test.shape == (10000,)"
      ],
      "metadata": {
        "colab": {
          "base_uri": "https://localhost:8080/"
        },
        "id": "kWWtcTCsGMi8",
        "outputId": "bbec8da3-8b25-4bea-f07a-891c97907629"
      },
      "execution_count": 6,
      "outputs": [
        {
          "output_type": "stream",
          "name": "stdout",
          "text": [
            "Downloading data from https://storage.googleapis.com/tensorflow/tf-keras-datasets/mnist.npz\n",
            "11493376/11490434 [==============================] - 0s 0us/step\n",
            "11501568/11490434 [==============================] - 0s 0us/step\n"
          ]
        }
      ]
    },
    {
      "cell_type": "markdown",
      "source": [
        " Step 2 (5 points) Visualize the digit images"
      ],
      "metadata": {
        "id": "RFZeVRHapQIl"
      }
    },
    {
      "cell_type": "code",
      "source": [
        "for i in range(9):\t\n",
        "  plt.subplot(330 + 1 + i)\n",
        "  plt.axis(\"OFF\")\n",
        "  plt.imshow(x_train[i], cmap=plt.get_cmap('gray'))\n",
        "plt.show()\n"
      ],
      "metadata": {
        "colab": {
          "base_uri": "https://localhost:8080/",
          "height": 248
        },
        "id": "9c0y-e2Npf_R",
        "outputId": "59e49796-e9ec-41f1-cf2d-757a6ea77ed8"
      },
      "execution_count": 8,
      "outputs": [
        {
          "output_type": "display_data",
          "data": {
            "text/plain": [
              "<Figure size 432x288 with 9 Axes>"
            ],
            "image/png": "[encoded data removed]"
          },
          "metadata": {
            "needs_background": "light"
          }
        }
      ]
    },
    {
      "cell_type": "code",
      "source": [
        "img_shape1 = x_test.shape\n",
        "n_samples1 = img_shape1[0]\n",
        "width1 = img_shape1[1]\n",
        "height1 = img_shape1[2]"
      ],
      "metadata": {
        "id": "ckjlK53eGe0C"
      },
      "execution_count": 8,
      "outputs": []
    },
    {
      "cell_type": "code",
      "source": [
        "img_shape = x_train.shape\n",
        "n_samples = img_shape[0]\n",
        "width = img_shape[1]\n",
        "height = img_shape[2]"
      ],
      "metadata": {
        "id": "PcVcFQTSGkXT"
      },
      "execution_count": 9,
      "outputs": []
    },
    {
      "cell_type": "code",
      "source": [
        "x_train_flatten = x_train.reshape(n_samples, width*height)\n",
        "\n",
        "print(\"x_train_flatten.shape: \",x_train_flatten.shape)"
      ],
      "metadata": {
        "colab": {
          "base_uri": "https://localhost:8080/"
        },
        "id": "l_xN2CtwGoNe",
        "outputId": "45ebcd72-26a6-4fed-c241-95ff0a5dc916"
      },
      "execution_count": 19,
      "outputs": [
        {
          "output_type": "stream",
          "name": "stdout",
          "text": [
            "x_train_flatten.shape:  (60000, 784)\n"
          ]
        }
      ]
    },
    {
      "cell_type": "markdown",
      "source": [
        "2 points) Give your own descriptions for the following four parameters about their purpose defined in this function: 'n_neighbors', 'metric', 'p', 'n_jobs'. \n",
        "\n",
        "1. n_neighbors it is a integer value, it gives us the number of neighbors our algorithm should look for  \n",
        "2. metric A distance metric is value which is calculated by using a funciton, which gives us which distance can be used for a particular dataset. \n",
        "3. p it is a parameter for the metric function decide the distance.\n",
        "4. n_jobs the number of parallel searches our algorithm will perform\n",
        "\n"
      ],
      "metadata": {
        "id": "iser0UVwqEg6"
      }
    },
    {
      "cell_type": "markdown",
      "source": [
        "2 points) Give your own descriptions for the following four methods about their purpose defined in this function: ‘fit(X,y)’, 'predict(X)', 'predict_proba', 'score(X,y)'. The description should include your understanding of the computation steps that each method conducts in the KNN algorithm. Other methods given in the sklearn document are worth understanding as well. (Members in a same group must have your own language in your submitted notebook)\n",
        "\n",
        " \n",
        "\n",
        "1. fit(x,y): fit is to train the model with the features and the labels \n",
        "2. predict(x): the prediction is to predtict a particular value by our training model, x is the value to be predict.\n",
        "3. pretict proba : predict_proba return the class porobability of each data point\n",
        "4. score(x,y) : the score is the accuracy metrics,it gives us how our model performs well. x i the acutal label and y is the predicted label.\n",
        "\n",
        "\n",
        "\n"
      ],
      "metadata": {
        "id": "KOsnStkPUonJ"
      }
    },
    {
      "cell_type": "markdown",
      "source": [
        "Step 3 (15 points):Training the KNN model  (try any K value as you wish) on the training set (60000 images), and report the running time during the prediction process on the test set (10000 images)."
      ],
      "metadata": {
        "id": "lYQ2uQ8Dpxh3"
      }
    },
    {
      "cell_type": "code",
      "source": [
        "from sklearn.neighbors import KNeighborsClassifier\n",
        "KNN_classifier = KNeighborsClassifier(n_neighbors=3)\n",
        "KNN_classifier.fit(x_train_flatten,y_train)"
      ],
      "metadata": {
        "colab": {
          "base_uri": "https://localhost:8080/"
        },
        "id": "31Lj_WM8qono",
        "outputId": "72c994d3-1f0c-4fd9-e5fc-b856df1571f8"
      },
      "execution_count": 131,
      "outputs": [
        {
          "output_type": "execute_result",
          "data": {
            "text/plain": [
              "KNeighborsClassifier(n_neighbors=3)"
            ]
          },
          "metadata": {},
          "execution_count": 131
        }
      ]
    },
    {
      "cell_type": "code",
      "source": [
        "x_test_flatten = x_test.reshape(n_samples1,width1*height1)\n",
        "print(\"x_test_flatten.shape: \",x_test_flatten.shape)\n"
      ],
      "metadata": {
        "colab": {
          "base_uri": "https://localhost:8080/"
        },
        "id": "yNTT4e0Gq9mS",
        "outputId": "0ca88619-1648-4fa7-bc39-28bd88d2985b"
      },
      "execution_count": 10,
      "outputs": [
        {
          "output_type": "stream",
          "name": "stdout",
          "text": [
            "x_test_flatten.shape:  (10000, 784)\n"
          ]
        }
      ]
    },
    {
      "cell_type": "markdown",
      "source": [
        "2 points) Training the KNN model  (try any K value as you wish) on the training set (60000 images), and report the running time during the prediction process on the test set (10000 images)."
      ],
      "metadata": {
        "id": "rkB9xA1zXbVn"
      }
    },
    {
      "cell_type": "code",
      "source": [
        "import time\n",
        "start = time.time()\n",
        "\n",
        "#Run your codes here\n",
        "y_test_pred = KNN_classifier.predict(x_test_flatten)\n",
        "end = time.time()\n",
        "time_duration = end-start\n",
        "print(\"Program finishes in {} seconds:\".format(time_duration))"
      ],
      "metadata": {
        "colab": {
          "base_uri": "https://localhost:8080/"
        },
        "id": "urJnRp8iqwqV",
        "outputId": "751538a9-d403-49be-9bca-e4c06c9b0a94"
      },
      "execution_count": 132,
      "outputs": [
        {
          "output_type": "stream",
          "name": "stdout",
          "text": [
            "Program finishes in 41.60312533378601 seconds:\n"
          ]
        }
      ]
    },
    {
      "cell_type": "markdown",
      "source": [
        "(2 points) Organize the predicted classes and actual classes into Pandas dataframe as follows:"
      ],
      "metadata": {
        "id": "WONVsQv2ruAq"
      }
    },
    {
      "cell_type": "code",
      "source": [
        "data={\"predicted_value\":y_test_pred,\"acutal\":y_test}\n",
        "df=pd.DataFrame(data)\n",
        "df"
      ],
      "metadata": {
        "colab": {
          "base_uri": "https://localhost:8080/",
          "height": 424
        },
        "id": "HQUIyVtdrsKX",
        "outputId": "ba1602f7-c557-4779-e95c-ed58c04cb5b0"
      },
      "execution_count": 128,
      "outputs": [
        {
          "output_type": "execute_result",
          "data": {
            "text/plain": [
              "      predicted_value  acutal\n",
              "0                   7       7\n",
              "1                   2       2\n",
              "2                   1       1\n",
              "3                   0       0\n",
              "4                   4       4\n",
              "...               ...     ...\n",
              "9995                2       2\n",
              "9996                3       3\n",
              "9997                4       4\n",
              "9998                5       5\n",
              "9999                6       6\n",
              "\n",
              "[10000 rows x 2 columns]"
            ],
            "text/html": [
              "\n",
              "  <div id=\"df-46e27ae3-a755-4126-91da-50d302a8d911\">\n",
              "    <div class=\"colab-df-container\">\n",
              "      <div>\n",
              "<style scoped>\n",
              "    .dataframe tbody tr th:only-of-type {\n",
              "        vertical-align: middle;\n",
              "    }\n",
              "\n",
              "    .dataframe tbody tr th {\n",
              "        vertical-align: top;\n",
              "    }\n",
              "\n",
              "    .dataframe thead th {\n",
              "        text-align: right;\n",
              "    }\n",
              "</style>\n",
              "<table border=\"1\" class=\"dataframe\">\n",
              "  <thead>\n",
              "    <tr style=\"text-align: right;\">\n",
              "      <th></th>\n",
              "      <th>predicted_value</th>\n",
              "      <th>acutal</th>\n",
              "    </tr>\n",
              "  </thead>\n",
              "  <tbody>\n",
              "    <tr>\n",
              "      <th>0</th>\n",
              "      <td>7</td>\n",
              "      <td>7</td>\n",
              "    </tr>\n",
              "    <tr>\n",
              "      <th>1</th>\n",
              "      <td>2</td>\n",
              "      <td>2</td>\n",
              "    </tr>\n",
              "    <tr>\n",
              "      <th>2</th>\n",
              "      <td>1</td>\n",
              "      <td>1</td>\n",
              "    </tr>\n",
              "    <tr>\n",
              "      <th>3</th>\n",
              "      <td>0</td>\n",
              "      <td>0</td>\n",
              "    </tr>\n",
              "    <tr>\n",
              "      <th>4</th>\n",
              "      <td>4</td>\n",
              "      <td>4</td>\n",
              "    </tr>\n",
              "    <tr>\n",
              "      <th>...</th>\n",
              "      <td>...</td>\n",
              "      <td>...</td>\n",
              "    </tr>\n",
              "    <tr>\n",
              "      <th>9995</th>\n",
              "      <td>2</td>\n",
              "      <td>2</td>\n",
              "    </tr>\n",
              "    <tr>\n",
              "      <th>9996</th>\n",
              "      <td>3</td>\n",
              "      <td>3</td>\n",
              "    </tr>\n",
              "    <tr>\n",
              "      <th>9997</th>\n",
              "      <td>4</td>\n",
              "      <td>4</td>\n",
              "    </tr>\n",
              "    <tr>\n",
              "      <th>9998</th>\n",
              "      <td>5</td>\n",
              "      <td>5</td>\n",
              "    </tr>\n",
              "    <tr>\n",
              "      <th>9999</th>\n",
              "      <td>6</td>\n",
              "      <td>6</td>\n",
              "    </tr>\n",
              "  </tbody>\n",
              "</table>\n",
              "<p>10000 rows × 2 columns</p>\n",
              "</div>\n",
              "      <button class=\"colab-df-convert\" onclick=\"convertToInteractive('df-46e27ae3-a755-4126-91da-50d302a8d911')\"\n",
              "              title=\"Convert this dataframe to an interactive table.\"\n",
              "              style=\"display:none;\">\n",
              "        \n",
              "  <svg xmlns=\"http://www.w3.org/2000/svg\" height=\"24px\"viewBox=\"0 0 24 24\"\n",
              "       width=\"24px\">\n",
              "    <path d=\"M0 0h24v24H0V0z\" fill=\"none\"/>\n",
              "    <path d=\"M18.56 5.44l.94 2.06.94-2.06 2.06-.94-2.06-.94-.94-2.06-.94 2.06-2.06.94zm-11 1L8.5 8.5l.94-2.06 2.06-.94-2.06-.94L8.5 2.5l-.94 2.06-2.06.94zm10 10l.94 2.06.94-2.06 2.06-.94-2.06-.94-.94-2.06-.94 2.06-2.06.94z\"/><path d=\"M17.41 7.96l-1.37-1.37c-.4-.4-.92-.59-1.43-.59-.52 0-1.04.2-1.43.59L10.3 9.45l-7.72 7.72c-.78.78-.78 2.05 0 2.83L4 21.41c.39.39.9.59 1.41.59.51 0 1.02-.2 1.41-.59l7.78-7.78 2.81-2.81c.8-.78.8-2.07 0-2.86zM5.41 20L4 18.59l7.72-7.72 1.47 1.35L5.41 20z\"/>\n",
              "  </svg>\n",
              "      </button>\n",
              "      \n",
              "  <style>\n",
              "    .colab-df-container {\n",
              "      display:flex;\n",
              "      flex-wrap:wrap;\n",
              "      gap: 12px;\n",
              "    }\n",
              "\n",
              "    .colab-df-convert {\n",
              "      background-color: #E8F0FE;\n",
              "      border: none;\n",
              "      border-radius: 50%;\n",
              "      cursor: pointer;\n",
              "      display: none;\n",
              "      fill: #1967D2;\n",
              "      height: 32px;\n",
              "      padding: 0 0 0 0;\n",
              "      width: 32px;\n",
              "    }\n",
              "\n",
              "    .colab-df-convert:hover {\n",
              "      background-color: #E2EBFA;\n",
              "      box-shadow: 0px 1px 2px rgba(60, 64, 67, 0.3), 0px 1px 3px 1px rgba(60, 64, 67, 0.15);\n",
              "      fill: #174EA6;\n",
              "    }\n",
              "\n",
              "    [theme=dark] .colab-df-convert {\n",
              "      background-color: #3B4455;\n",
              "      fill: #D2E3FC;\n",
              "    }\n",
              "\n",
              "    [theme=dark] .colab-df-convert:hover {\n",
              "      background-color: #434B5C;\n",
              "      box-shadow: 0px 1px 3px 1px rgba(0, 0, 0, 0.15);\n",
              "      filter: drop-shadow(0px 1px 2px rgba(0, 0, 0, 0.3));\n",
              "      fill: #FFFFFF;\n",
              "    }\n",
              "  </style>\n",
              "\n",
              "      <script>\n",
              "        const buttonEl =\n",
              "          document.querySelector('#df-46e27ae3-a755-4126-91da-50d302a8d911 button.colab-df-convert');\n",
              "        buttonEl.style.display =\n",
              "          google.colab.kernel.accessAllowed ? 'block' : 'none';\n",
              "\n",
              "        async function convertToInteractive(key) {\n",
              "          const element = document.querySelector('#df-46e27ae3-a755-4126-91da-50d302a8d911');\n",
              "          const dataTable =\n",
              "            await google.colab.kernel.invokeFunction('convertToInteractive',\n",
              "                                                     [key], {});\n",
              "          if (!dataTable) return;\n",
              "\n",
              "          const docLinkHtml = 'Like what you see? Visit the ' +\n",
              "            '<a target=\"_blank\" href=https://colab.research.google.com/notebooks/data_table.ipynb>data table notebook</a>'\n",
              "            + ' to learn more about interactive tables.';\n",
              "          element.innerHTML = '';\n",
              "          dataTable['output_type'] = 'display_data';\n",
              "          await google.colab.output.renderOutput(dataTable, element);\n",
              "          const docLink = document.createElement('div');\n",
              "          docLink.innerHTML = docLinkHtml;\n",
              "          element.appendChild(docLink);\n",
              "        }\n",
              "      </script>\n",
              "    </div>\n",
              "  </div>\n",
              "  "
            ]
          },
          "metadata": {},
          "execution_count": 128
        }
      ]
    },
    {
      "cell_type": "markdown",
      "source": [
        "2 points) Calculate the overall accuracy of the predictions. "
      ],
      "metadata": {
        "id": "D1kNZJJbr5om"
      }
    },
    {
      "cell_type": "code",
      "source": [
        "from sklearn import metrics\n",
        "print(\"Accuracy: \", metrics.accuracy_score(y_test, y_test_pred))"
      ],
      "metadata": {
        "colab": {
          "base_uri": "https://localhost:8080/"
        },
        "id": "BGP0NLwyr7v2",
        "outputId": "774f2217-c359-4875-f270-0097d09802b8"
      },
      "execution_count": 26,
      "outputs": [
        {
          "output_type": "stream",
          "name": "stdout",
          "text": [
            "Accuracy:  0.9705\n"
          ]
        }
      ]
    },
    {
      "cell_type": "markdown",
      "source": [
        "4 points) Calculate the per-class accuracy of the predictions"
      ],
      "metadata": {
        "id": "HYdG06M3sFL_"
      }
    },
    {
      "cell_type": "code",
      "source": [
        "def accuracy(y_test,y_test_pred):\n",
        "  for i in range(0,10):\n",
        "    a = np.where(y_test==i,1,0)\n",
        "    b = np.where(y_test_pred == i,1,0)\n",
        "    val=np.where(a == b,1,0)\n",
        "    sum_value=val.sum()\n",
        "    total=len(a)\n",
        "    accuracy= (sum_value/total)*100\n",
        "    print(\"accuracy of  is \"+str(i),accuracy)"
      ],
      "metadata": {
        "id": "CcF0Z6T_sEgN"
      },
      "execution_count": 27,
      "outputs": []
    },
    {
      "cell_type": "code",
      "source": [
        "accuracy(y_test,y_test_pred)"
      ],
      "metadata": {
        "colab": {
          "base_uri": "https://localhost:8080/"
        },
        "id": "2enmEXSdsPCM",
        "outputId": "7fded178-254d-4600-f57b-2c702655d4d7"
      },
      "execution_count": 28,
      "outputs": [
        {
          "output_type": "stream",
          "name": "stdout",
          "text": [
            "accuracy of  is 0 99.6\n",
            "accuracy of  is 1 99.48\n",
            "accuracy of  is 2 99.46000000000001\n",
            "accuracy of  is 3 99.29\n",
            "accuracy of  is 4 99.44\n",
            "accuracy of  is 5 99.37\n",
            "accuracy of  is 6 99.7\n",
            "accuracy of  is 7 99.27\n",
            "accuracy of  is 8 99.3\n",
            "accuracy of  is 9 99.19\n"
          ]
        }
      ]
    },
    {
      "cell_type": "markdown",
      "source": [
        " (1 points) Let's visualize the classification confusion matrix to check the details of the predictions for each class. "
      ],
      "metadata": {
        "id": "BXDxkSKusWjc"
      }
    },
    {
      "cell_type": "code",
      "source": [
        "ConfusionMatrixDisplay.from_predictions(y_test, y_test_pred)\n",
        "plt.title(\"Classification Confusion matrix\")\n",
        "plt.show()"
      ],
      "metadata": {
        "colab": {
          "base_uri": "https://localhost:8080/",
          "height": 295
        },
        "id": "tzoQuDg8saKm",
        "outputId": "e03ef299-a65d-4ac5-b8bd-19dc95df484b"
      },
      "execution_count": 29,
      "outputs": [
        {
          "output_type": "display_data",
          "data": {
            "text/plain": [
              "<Figure size 432x288 with 2 Axes>"
            ],
            "image/png": "[encoded data removed]"
          },
          "metadata": {
            "needs_background": "light"
          }
        }
      ]
    },
    {
      "cell_type": "markdown",
      "source": [
        "(5 points) Step 1: Write a function that can shift an MNIST image in any direction (left, right, up, or down) by one pixel. "
      ],
      "metadata": {
        "id": "gekeuyEusqiA"
      }
    },
    {
      "cell_type": "code",
      "source": [
        "val1=scipy.ndimage.shift(x_train[0], [2,-1], cval=0)\n",
        "val2=scipy.ndimage.shift(x_train[0], [2,1], cval=0)\n",
        "val3=scipy.ndimage.shift(x_train[0], [-2,-1], cval=0)\n",
        "val4=scipy.ndimage.shift(x_train[0], [-2,1], cval=0)"
      ],
      "metadata": {
        "id": "iW882L5lsr4t"
      },
      "execution_count": 30,
      "outputs": []
    },
    {
      "cell_type": "code",
      "source": [
        "li=[val1,val2,val3,val4,x_train[0]]\n",
        "for i in range(len(li)):\n",
        "  plt.subplot(330 + 1 +i )\n",
        "  plt.imshow(li[i], cmap=plt.get_cmap('gray'))\n",
        "plt.show()"
      ],
      "metadata": {
        "colab": {
          "base_uri": "https://localhost:8080/",
          "height": 191
        },
        "id": "lFe6XEhttS34",
        "outputId": "e8f5df93-31aa-4dfc-a0b1-5022c38ce6e3"
      },
      "execution_count": 36,
      "outputs": [
        {
          "output_type": "display_data",
          "data": {
            "text/plain": [
              "<Figure size 432x288 with 5 Axes>"
            ],
            "image/png": "[encoded data removed]"
          },
          "metadata": {
            "needs_background": "light"
          }
        }
      ]
    },
    {
      "cell_type": "markdown",
      "source": [
        "(5 points) Step 2: Write a function that can rotate an MNIST image in any degree (Clockwise & Counterclockwise) of image matrix. "
      ],
      "metadata": {
        "id": "bZZO2Z5LuSdU"
      }
    },
    {
      "cell_type": "code",
      "source": [
        "val5=scipy.ndimage.rotate(input=x_train[0],angle=-20, reshape=False, cval=0)\n",
        "val6=scipy.ndimage.rotate(input=x_train[0],angle=20, reshape=False, cval=0) "
      ],
      "metadata": {
        "id": "-Ns8g3qjuTpC"
      },
      "execution_count": 39,
      "outputs": []
    },
    {
      "cell_type": "code",
      "source": [
        "li1=[val5,val6,x_train[0]]\n",
        "for i in range(len(li1)):\n",
        "  plt.subplot(330 + 1 +i )\n",
        "  plt.imshow(li1[i], cmap=plt.get_cmap('gray'))\n",
        "plt.show()"
      ],
      "metadata": {
        "colab": {
          "base_uri": "https://localhost:8080/",
          "height": 115
        },
        "id": "k-Za9T6-u8kE",
        "outputId": "d507293f-9784-4f94-c14d-4f72c51d8a37"
      },
      "execution_count": 40,
      "outputs": [
        {
          "output_type": "display_data",
          "data": {
            "text/plain": [
              "<Figure size 432x288 with 3 Axes>"
            ],
            "image/png": "[encoded data removed]"
          },
          "metadata": {
            "needs_background": "light"
          }
        }
      ]
    },
    {
      "cell_type": "markdown",
      "source": [
        "(3 points) Step 3: Apply the image shifting and rotate function on the whole training set. For each image in the training set, create four shifted copies (one per direction), two rotated copies (clockwise, counterclockwise), and add them to the training set. Therefore, the number of training images will be increased from 60000 to 420000 (60000*(1+4+2)).   "
      ],
      "metadata": {
        "id": "LyKa03r_wxlp"
      }
    },
    {
      "cell_type": "code",
      "source": [
        "combine1=x_train_flatten"
      ],
      "metadata": {
        "id": "4W43xKU21CQo"
      },
      "execution_count": 57,
      "outputs": []
    },
    {
      "cell_type": "code",
      "source": [
        "def shift_image(combine1,combine2):\n",
        "  for i in range(0,len(x_train)):\n",
        "    val1=scipy.ndimage.shift(x_train[i], [2,-1], cval=0)\n",
        "    val1_new=val1.flatten().reshape(1,28*28)\n",
        "    combine1= np.concatenate([combine1,val1_new])\n",
        "    combine2=np.concatenate([combine2,np.array([y_train[i]])])\n",
        "    val2=scipy.ndimage.shift(x_train[i], [2,1], cval=0)\n",
        "    val2_new=val1.flatten().reshape(1,28*28)\n",
        "    combine1= np.concatenate([combine1,val2_new])\n",
        "    combine2=np.concatenate([combine2,np.array([y_train[i]])])\n",
        "    val3=scipy.ndimage.shift(x_train[i], [-2,-1], cval=0)\n",
        "    val3_new=val1.flatten().reshape(1,28*28)\n",
        "    combine1= np.concatenate([combine1,val3_new])\n",
        "    combine2=np.concatenate([combine2,np.array([y_train[i]])])\n",
        "    val4=scipy.ndimage.shift(x_train[i], [-2,1], cval=0)\n",
        "    val4_new=val1.flatten().reshape(1,28*28)\n",
        "    combine1= np.concatenate([combine1,val4_new])\n",
        "    combine2=np.concatenate([combine2,np.array([y_train[i]])])\n",
        "    val5=scipy.ndimage.rotate(input=x_train[i], angle = -20, reshape=False, cval=0)\n",
        "    val5_new = val5.flatten().reshape(1,28*28)\n",
        "    combine1= np.concatenate([combine1,val5_new])\n",
        "    combine2=np.concatenate([combine2,np.array([y_train[i]])])\n",
        "    val6=scipy.ndimage.rotate(input=x_train[i], angle = 20, reshape=False, cval=0) \n",
        "    val6_new = val6.flatten().reshape(1,28*28) \n",
        "    combine1 = np.concatenate([combine1,val6_new])\n",
        "    combine2=np.concatenate([combine2,np.array([y_train[i]])])\n",
        "   \n",
        "  return combine1,combine2"
      ],
      "metadata": {
        "id": "363LY0c0w5Ny"
      },
      "execution_count": 22,
      "outputs": []
    },
    {
      "cell_type": "code",
      "source": [
        "combine1=x_train_flatten\n",
        "combine2=y_train\n",
        "x_train_aug,y_train_aug= shift_image(combine1,combine2)"
      ],
      "metadata": {
        "id": "xCee7h_tyeOX"
      },
      "execution_count": 23,
      "outputs": []
    },
    {
      "cell_type": "code",
      "source": [
        "x_train_aug.shape"
      ],
      "metadata": {
        "colab": {
          "base_uri": "https://localhost:8080/",
          "height": 166
        },
        "id": "syn_2SBHZ7Wk",
        "outputId": "448d3143-396c-4745-c972-921153002ffa"
      },
      "execution_count": 12,
      "outputs": [
        {
          "output_type": "error",
          "ename": "NameError",
          "evalue": "ignored",
          "traceback": [
            "\u001b[0;31m---------------------------------------------------------------------------\u001b[0m",
            "\u001b[0;31mNameError\u001b[0m                                 Traceback (most recent call last)",
            "\u001b[0;32m<ipython-input-12-4a007e4cc459>\u001b[0m in \u001b[0;36m<module>\u001b[0;34m()\u001b[0m\n\u001b[0;32m----> 1\u001b[0;31m \u001b[0mx_train_aug\u001b[0m\u001b[0;34m.\u001b[0m\u001b[0mshape\u001b[0m\u001b[0;34m\u001b[0m\u001b[0;34m\u001b[0m\u001b[0m\n\u001b[0m",
            "\u001b[0;31mNameError\u001b[0m: name 'x_train_aug' is not defined"
          ]
        }
      ]
    },
    {
      "cell_type": "code",
      "source": [
        "y_train_aug.shape"
      ],
      "metadata": {
        "colab": {
          "base_uri": "https://localhost:8080/",
          "height": 166
        },
        "id": "NYjQ2_TGFIn2",
        "outputId": "7928860c-a995-41a9-a177-c3b613808122"
      },
      "execution_count": 11,
      "outputs": [
        {
          "output_type": "error",
          "ename": "NameError",
          "evalue": "ignored",
          "traceback": [
            "\u001b[0;31m---------------------------------------------------------------------------\u001b[0m",
            "\u001b[0;31mNameError\u001b[0m                                 Traceback (most recent call last)",
            "\u001b[0;32m<ipython-input-11-e06bbc76c8ed>\u001b[0m in \u001b[0;36m<module>\u001b[0;34m()\u001b[0m\n\u001b[0;32m----> 1\u001b[0;31m \u001b[0my_train_aug\u001b[0m\u001b[0;34m.\u001b[0m\u001b[0mshape\u001b[0m\u001b[0;34m\u001b[0m\u001b[0;34m\u001b[0m\u001b[0m\n\u001b[0m",
            "\u001b[0;31mNameError\u001b[0m: name 'y_train_aug' is not defined"
          ]
        }
      ]
    },
    {
      "cell_type": "markdown",
      "source": [
        "2 points) Training the KNN model on the augmented training set (420000 images), and report the running time during the prediction process on the test set (10000 images).\n",
        "\n",
        "\n"
      ],
      "metadata": {
        "id": "RbZAivv5KnA1"
      }
    },
    {
      "cell_type": "code",
      "source": [
        "from sklearn.neighbors import KNeighborsClassifier\n",
        "KNN_classifier1 = KNeighborsClassifier(n_neighbors=3)\n",
        "KNN_classifier1.fit(combine1,combine2)"
      ],
      "metadata": {
        "colab": {
          "base_uri": "https://localhost:8080/"
        },
        "id": "QP6Uzt8tFW6b",
        "outputId": "b6ab4203-b55f-4cbb-92a0-48b867c64e81"
      },
      "execution_count": 116,
      "outputs": [
        {
          "output_type": "execute_result",
          "data": {
            "text/plain": [
              "KNeighborsClassifier(n_neighbors=3)"
            ]
          },
          "metadata": {},
          "execution_count": 116
        }
      ]
    },
    {
      "cell_type": "markdown",
      "source": [
        ""
      ],
      "metadata": {
        "id": "KDiS1LYPKzAz"
      }
    },
    {
      "cell_type": "code",
      "source": [
        "import time\n",
        "start = time.time()\n",
        "\n",
        "#Run your codes here\n",
        "y_test_pred1 = KNN_classifier1.predict(x_test_flatten)\n",
        "end = time.time()\n",
        "time_duration = end-start\n",
        "print(\"Program finishes in {} seconds:\".format(time_duration))"
      ],
      "metadata": {
        "colab": {
          "base_uri": "https://localhost:8080/"
        },
        "id": "IIThtwGFFhvJ",
        "outputId": "f7cf9706-ef72-414c-c137-3a6151a4d3c1"
      },
      "execution_count": 117,
      "outputs": [
        {
          "output_type": "stream",
          "name": "stdout",
          "text": [
            "Program finishes in 38.15823006629944 seconds:\n"
          ]
        }
      ]
    },
    {
      "cell_type": "markdown",
      "source": [
        "(2 points) Organize the predicted classes and actual classes into Pandas dataframe as follows:"
      ],
      "metadata": {
        "id": "TZCL8MU2K-A4"
      }
    },
    {
      "cell_type": "code",
      "source": [
        "data1={\"predited_label\":y_test_pred1,\"actual_label\":y_test}\n",
        "df1=pd.DataFrame(data1)\n",
        "df1"
      ],
      "metadata": {
        "colab": {
          "base_uri": "https://localhost:8080/",
          "height": 424
        },
        "id": "de5yudAyHgdu",
        "outputId": "fdca365d-b74a-43e8-8675-dd091649e486"
      },
      "execution_count": 163,
      "outputs": [
        {
          "output_type": "execute_result",
          "data": {
            "text/plain": [
              "      predited_label  actual_label\n",
              "0                  7             7\n",
              "1                  2             2\n",
              "2                  1             1\n",
              "3                  0             0\n",
              "4                  4             4\n",
              "...              ...           ...\n",
              "9995               2             2\n",
              "9996               3             3\n",
              "9997               4             4\n",
              "9998               5             5\n",
              "9999               6             6\n",
              "\n",
              "[10000 rows x 2 columns]"
            ],
            "text/html": [
              "\n",
              "  <div id=\"df-5fb2f59c-d4d7-489b-add8-78022cc570b9\">\n",
              "    <div class=\"colab-df-container\">\n",
              "      <div>\n",
              "<style scoped>\n",
              "    .dataframe tbody tr th:only-of-type {\n",
              "        vertical-align: middle;\n",
              "    }\n",
              "\n",
              "    .dataframe tbody tr th {\n",
              "        vertical-align: top;\n",
              "    }\n",
              "\n",
              "    .dataframe thead th {\n",
              "        text-align: right;\n",
              "    }\n",
              "</style>\n",
              "<table border=\"1\" class=\"dataframe\">\n",
              "  <thead>\n",
              "    <tr style=\"text-align: right;\">\n",
              "      <th></th>\n",
              "      <th>predited_label</th>\n",
              "      <th>actual_label</th>\n",
              "    </tr>\n",
              "  </thead>\n",
              "  <tbody>\n",
              "    <tr>\n",
              "      <th>0</th>\n",
              "      <td>7</td>\n",
              "      <td>7</td>\n",
              "    </tr>\n",
              "    <tr>\n",
              "      <th>1</th>\n",
              "      <td>2</td>\n",
              "      <td>2</td>\n",
              "    </tr>\n",
              "    <tr>\n",
              "      <th>2</th>\n",
              "      <td>1</td>\n",
              "      <td>1</td>\n",
              "    </tr>\n",
              "    <tr>\n",
              "      <th>3</th>\n",
              "      <td>0</td>\n",
              "      <td>0</td>\n",
              "    </tr>\n",
              "    <tr>\n",
              "      <th>4</th>\n",
              "      <td>4</td>\n",
              "      <td>4</td>\n",
              "    </tr>\n",
              "    <tr>\n",
              "      <th>...</th>\n",
              "      <td>...</td>\n",
              "      <td>...</td>\n",
              "    </tr>\n",
              "    <tr>\n",
              "      <th>9995</th>\n",
              "      <td>2</td>\n",
              "      <td>2</td>\n",
              "    </tr>\n",
              "    <tr>\n",
              "      <th>9996</th>\n",
              "      <td>3</td>\n",
              "      <td>3</td>\n",
              "    </tr>\n",
              "    <tr>\n",
              "      <th>9997</th>\n",
              "      <td>4</td>\n",
              "      <td>4</td>\n",
              "    </tr>\n",
              "    <tr>\n",
              "      <th>9998</th>\n",
              "      <td>5</td>\n",
              "      <td>5</td>\n",
              "    </tr>\n",
              "    <tr>\n",
              "      <th>9999</th>\n",
              "      <td>6</td>\n",
              "      <td>6</td>\n",
              "    </tr>\n",
              "  </tbody>\n",
              "</table>\n",
              "<p>10000 rows × 2 columns</p>\n",
              "</div>\n",
              "      <button class=\"colab-df-convert\" onclick=\"convertToInteractive('df-5fb2f59c-d4d7-489b-add8-78022cc570b9')\"\n",
              "              title=\"Convert this dataframe to an interactive table.\"\n",
              "              style=\"display:none;\">\n",
              "        \n",
              "  <svg xmlns=\"http://www.w3.org/2000/svg\" height=\"24px\"viewBox=\"0 0 24 24\"\n",
              "       width=\"24px\">\n",
              "    <path d=\"M0 0h24v24H0V0z\" fill=\"none\"/>\n",
              "    <path d=\"M18.56 5.44l.94 2.06.94-2.06 2.06-.94-2.06-.94-.94-2.06-.94 2.06-2.06.94zm-11 1L8.5 8.5l.94-2.06 2.06-.94-2.06-.94L8.5 2.5l-.94 2.06-2.06.94zm10 10l.94 2.06.94-2.06 2.06-.94-2.06-.94-.94-2.06-.94 2.06-2.06.94z\"/><path d=\"M17.41 7.96l-1.37-1.37c-.4-.4-.92-.59-1.43-.59-.52 0-1.04.2-1.43.59L10.3 9.45l-7.72 7.72c-.78.78-.78 2.05 0 2.83L4 21.41c.39.39.9.59 1.41.59.51 0 1.02-.2 1.41-.59l7.78-7.78 2.81-2.81c.8-.78.8-2.07 0-2.86zM5.41 20L4 18.59l7.72-7.72 1.47 1.35L5.41 20z\"/>\n",
              "  </svg>\n",
              "      </button>\n",
              "      \n",
              "  <style>\n",
              "    .colab-df-container {\n",
              "      display:flex;\n",
              "      flex-wrap:wrap;\n",
              "      gap: 12px;\n",
              "    }\n",
              "\n",
              "    .colab-df-convert {\n",
              "      background-color: #E8F0FE;\n",
              "      border: none;\n",
              "      border-radius: 50%;\n",
              "      cursor: pointer;\n",
              "      display: none;\n",
              "      fill: #1967D2;\n",
              "      height: 32px;\n",
              "      padding: 0 0 0 0;\n",
              "      width: 32px;\n",
              "    }\n",
              "\n",
              "    .colab-df-convert:hover {\n",
              "      background-color: #E2EBFA;\n",
              "      box-shadow: 0px 1px 2px rgba(60, 64, 67, 0.3), 0px 1px 3px 1px rgba(60, 64, 67, 0.15);\n",
              "      fill: #174EA6;\n",
              "    }\n",
              "\n",
              "    [theme=dark] .colab-df-convert {\n",
              "      background-color: #3B4455;\n",
              "      fill: #D2E3FC;\n",
              "    }\n",
              "\n",
              "    [theme=dark] .colab-df-convert:hover {\n",
              "      background-color: #434B5C;\n",
              "      box-shadow: 0px 1px 3px 1px rgba(0, 0, 0, 0.15);\n",
              "      filter: drop-shadow(0px 1px 2px rgba(0, 0, 0, 0.3));\n",
              "      fill: #FFFFFF;\n",
              "    }\n",
              "  </style>\n",
              "\n",
              "      <script>\n",
              "        const buttonEl =\n",
              "          document.querySelector('#df-5fb2f59c-d4d7-489b-add8-78022cc570b9 button.colab-df-convert');\n",
              "        buttonEl.style.display =\n",
              "          google.colab.kernel.accessAllowed ? 'block' : 'none';\n",
              "\n",
              "        async function convertToInteractive(key) {\n",
              "          const element = document.querySelector('#df-5fb2f59c-d4d7-489b-add8-78022cc570b9');\n",
              "          const dataTable =\n",
              "            await google.colab.kernel.invokeFunction('convertToInteractive',\n",
              "                                                     [key], {});\n",
              "          if (!dataTable) return;\n",
              "\n",
              "          const docLinkHtml = 'Like what you see? Visit the ' +\n",
              "            '<a target=\"_blank\" href=https://colab.research.google.com/notebooks/data_table.ipynb>data table notebook</a>'\n",
              "            + ' to learn more about interactive tables.';\n",
              "          element.innerHTML = '';\n",
              "          dataTable['output_type'] = 'display_data';\n",
              "          await google.colab.output.renderOutput(dataTable, element);\n",
              "          const docLink = document.createElement('div');\n",
              "          docLink.innerHTML = docLinkHtml;\n",
              "          element.appendChild(docLink);\n",
              "        }\n",
              "      </script>\n",
              "    </div>\n",
              "  </div>\n",
              "  "
            ]
          },
          "metadata": {},
          "execution_count": 163
        }
      ]
    },
    {
      "cell_type": "markdown",
      "source": [
        "(2 points) Calculate the overall accuracy of the predictions. "
      ],
      "metadata": {
        "id": "ZmeeabziLq7q"
      }
    },
    {
      "cell_type": "code",
      "source": [
        "from sklearn import metrics\n",
        "print(\"Accuracy: \", metrics.accuracy_score(y_test, y_test_pred1))"
      ],
      "metadata": {
        "colab": {
          "base_uri": "https://localhost:8080/"
        },
        "id": "R4b12KohGKKK",
        "outputId": "e9ba29e3-ef2b-46ff-90c1-26e38739f450"
      },
      "execution_count": 162,
      "outputs": [
        {
          "output_type": "stream",
          "name": "stdout",
          "text": [
            "Accuracy:  0.9705\n"
          ]
        }
      ]
    },
    {
      "cell_type": "markdown",
      "source": [
        "(2 points) Calculate the per-class accuracy of the predictions."
      ],
      "metadata": {
        "id": "39P8R__YLySJ"
      }
    },
    {
      "cell_type": "code",
      "source": [
        "def accuracy(y_test,y_test_pred1):\n",
        "  for i in range(0,10):\n",
        "    a = np.where(y_test==i,1,0)\n",
        "    b = np.where(y_test_pred1 == i,1,0)\n",
        "    val=np.where(a == b,1,0)\n",
        "    sum_value=val.sum()\n",
        "    total=len(a)\n",
        "    accuracy= (sum_value/total)*100\n",
        "    print(\"accuracy of  is \"+str(i),accuracy)"
      ],
      "metadata": {
        "id": "TSZ_skEhGys_"
      },
      "execution_count": 120,
      "outputs": []
    },
    {
      "cell_type": "code",
      "source": [
        "accuracy(y_test,y_test_pred1)"
      ],
      "metadata": {
        "colab": {
          "base_uri": "https://localhost:8080/"
        },
        "id": "K0rreC2uG6ef",
        "outputId": "8313c6da-052d-46fb-d45a-144df98f4bc9"
      },
      "execution_count": 121,
      "outputs": [
        {
          "output_type": "stream",
          "name": "stdout",
          "text": [
            "accuracy of  is 0 99.6\n",
            "accuracy of  is 1 99.48\n",
            "accuracy of  is 2 99.46000000000001\n",
            "accuracy of  is 3 99.29\n",
            "accuracy of  is 4 99.44\n",
            "accuracy of  is 5 99.37\n",
            "accuracy of  is 6 99.7\n",
            "accuracy of  is 7 99.27\n",
            "accuracy of  is 8 99.3\n",
            "accuracy of  is 9 99.19\n"
          ]
        }
      ]
    },
    {
      "cell_type": "markdown",
      "source": [
        "\n",
        "\n",
        "5. (2 points) Let's visualize the classification confusion matrix to check the details of the predictions for each class"
      ],
      "metadata": {
        "id": "jWuqDMYxL7Uv"
      }
    },
    {
      "cell_type": "code",
      "source": [
        "plot1=plt.subplot(330 + 1 + 0)\n",
        "ConfusionMatrixDisplay.from_predictions(y_test, y_test_pred)\n",
        "plt.title(\"Classification Confusion matrix  original dataset\")\n",
        "plt.show()\n",
        "plot2=plt.subplot(330 + 1 + 1)\n",
        "ConfusionMatrixDisplay.from_predictions(y_test, y_test_pred1)\n",
        "plt.title(\"Classification Confusion matrix augumented dataset\")\n",
        "plt.show()\n"
      ],
      "metadata": {
        "colab": {
          "base_uri": "https://localhost:8080/",
          "height": 771
        },
        "id": "BFJ2cR7FH4zJ",
        "outputId": "2eb2745b-5c43-42bd-9ae7-b64245fecaa3"
      },
      "execution_count": 156,
      "outputs": [
        {
          "output_type": "display_data",
          "data": {
            "text/plain": [
              "<Figure size 432x288 with 1 Axes>"
            ],
            "image/png": "[encoded data removed]"
          },
          "metadata": {
            "needs_background": "light"
          }
        },
        {
          "output_type": "display_data",
          "data": {
            "text/plain": [
              "<Figure size 432x288 with 2 Axes>"
            ],
            "image/png": "[encoded data removed]"
          },
          "metadata": {
            "needs_background": "light"
          }
        },
        {
          "output_type": "display_data",
          "data": {
            "text/plain": [
              "<Figure size 432x288 with 1 Axes>"
            ],
            "image/png": "[encoded data removed]"
          },
          "metadata": {
            "needs_background": "light"
          }
        },
        {
          "output_type": "display_data",
          "data": {
            "text/plain": [
              "<Figure size 432x288 with 2 Axes>"
            ],
            "image/png": "[encoded data removed]"
          },
          "metadata": {
            "needs_background": "light"
          }
        }
      ]
    },
    {
      "cell_type": "code",
      "source": [
        "x_train_aug.shape"
      ],
      "metadata": {
        "colab": {
          "base_uri": "https://localhost:8080/"
        },
        "id": "g8OWJjmuuOhB",
        "outputId": "ff0e16b7-896e-441f-cb3d-d518baf63820"
      },
      "execution_count": 161,
      "outputs": [
        {
          "output_type": "execute_result",
          "data": {
            "text/plain": [
              "(420000, 784)"
            ]
          },
          "metadata": {},
          "execution_count": 161
        }
      ]
    },
    {
      "cell_type": "markdown",
      "source": [
        "(2 points) Compare the difference of performance and describe whether the data augmentation boosts the overall accuracy and per-class accuracy.\n",
        "\n",
        "somehome the data augumnetation should improve the accuracy but in my case the accuracy is same for both original dataset and augumented dataset.\n",
        "with different k values,the accuracy per class tend to increase."
      ],
      "metadata": {
        "id": "VmRxB0FQMecR"
      }
    },
    {
      "cell_type": "markdown",
      "source": [
        "Part III (25 points):  Deploy the machine learning models on Gradio or huggingface"
      ],
      "metadata": {
        "id": "RiC2hZJ_vXYj"
      }
    },
    {
      "cell_type": "code",
      "source": [
        "input_module1 = gr.inputs.Image(shape=(28, 28),label = \"Input Image\",  image_mode='L')\n",
        "input_module2 = gr.inputs.Slider(1, 29, step=1, label = \"k_value\")"
      ],
      "metadata": {
        "colab": {
          "base_uri": "https://localhost:8080/"
        },
        "id": "2Z7JqWNWvZAa",
        "outputId": "927eea3c-d9e5-4951-ea12-aaca074e5826"
      },
      "execution_count": 59,
      "outputs": [
        {
          "output_type": "stream",
          "name": "stderr",
          "text": [
            "/usr/local/lib/python3.7/dist-packages/gradio/deprecation.py:40: UserWarning: `optional` parameter is deprecated, and it has no effect\n",
            "  warnings.warn(value)\n"
          ]
        }
      ]
    },
    {
      "cell_type": "code",
      "source": [
        "output_module1 = gr.outputs.Textbox(label = \"Output Text\")"
      ],
      "metadata": {
        "colab": {
          "base_uri": "https://localhost:8080/"
        },
        "id": "Zmri59e0vehE",
        "outputId": "29a2358c-ebfe-4d15-f68e-2aca601b4752"
      },
      "execution_count": 60,
      "outputs": [
        {
          "output_type": "stream",
          "name": "stderr",
          "text": [
            "/usr/local/lib/python3.7/dist-packages/gradio/deprecation.py:40: UserWarning: The 'type' parameter has been deprecated. Use the Number component instead.\n",
            "  warnings.warn(value)\n"
          ]
        }
      ]
    },
    {
      "cell_type": "code",
      "source": [
        "def multi_inputs(input1, input2):\n",
        "  input_val=input1\n",
        "  input_val= input_val.flatten().reshape(1,28*28)\n",
        "  KNN_classifier = KNeighborsClassifier(n_neighbors=input2)\n",
        "  KNN_classifier.fit(x_train_flatten,y_train)\n",
        "  try:\n",
        "    y_pred = KNN_classifier.predict(input_val)\n",
        "    return (y_pred)[0]\n",
        "  except NotFittedError as e:\n",
        "      print(repr(e))\n"
      ],
      "metadata": {
        "id": "BfdL3Sp8viD8"
      },
      "execution_count": 157,
      "outputs": []
    },
    {
      "cell_type": "code",
      "source": [
        "def get_sample_images(num_images):\n",
        "    sample_images = []\n",
        "    for i in range(num_images):\n",
        "      test_feature = x_test[i]\n",
        "      test_feature_2d =test_feature.flatten().reshape(28,28)\n",
        "    \n",
        "      # Make it unsigned integers:\n",
        "      data = test_feature_2d.astype(np.uint8)\n",
        "\n",
        "      outdir =  \"images_folder\"\n",
        "      img_path = os.path.join(outdir, 'local_%05d.png' % (i,))\n",
        "      if not os.path.exists(outdir):\n",
        "         os.mkdir(outdir)\n",
        "      cv2.imwrite(img_path, data)\n",
        "\n",
        "      sample_images.append([img_path,int(np.random.choice([7,9,11,13,15,24]))])   # [\"image path\", \"K\"]\n",
        "    return sample_images"
      ],
      "metadata": {
        "id": "zQ2DERz_vmaG"
      },
      "execution_count": 158,
      "outputs": []
    },
    {
      "cell_type": "code",
      "source": [
        "sample_images = get_sample_images(10)"
      ],
      "metadata": {
        "id": "-9v4OINtvp_u"
      },
      "execution_count": 159,
      "outputs": []
    },
    {
      "cell_type": "code",
      "source": [
        "gr.Interface(fn=multi_inputs, \n",
        "             inputs=[input_module1, input_module2], \n",
        "             outputs=[output_module1],\n",
        "             examples=sample_images\n",
        "            ).launch()"
      ],
      "metadata": {
        "colab": {
          "base_uri": "https://localhost:8080/",
          "height": 729
        },
        "id": "fEYggKt-vuYz",
        "outputId": "3b384aeb-3eb7-4149-bf70-701fccf78938"
      },
      "execution_count": 164,
      "outputs": [
        {
          "output_type": "stream",
          "name": "stdout",
          "text": [
            "Colab notebook detected. To show errors in colab notebook, set `debug=True` in `launch()`\n",
            "Running on public URL: https://42005.gradio.app\n",
            "\n",
            "This share link expires in 72 hours. For free permanent hosting, check out Spaces (https://huggingface.co/spaces)\n"
          ]
        },
        {
          "output_type": "display_data",
          "data": {
            "text/plain": [
              "<IPython.core.display.HTML object>"
            ],
            "text/html": [
              "<div><iframe src=\"https://42005.gradio.app\" width=\"900\" height=\"500\" allow=\"autoplay; camera; microphone;\" frameborder=\"0\" allowfullscreen></iframe></div>"
            ]
          },
          "metadata": {}
        },
        {
          "output_type": "execute_result",
          "data": {
            "text/plain": [
              "(<gradio.routes.App at 0x7f17d3cf9e90>,\n",
              " 'http://127.0.0.1:7866/',\n",
              " 'https://42005.gradio.app')"
            ]
          },
          "metadata": {},
          "execution_count": 164
        },
        {
          "output_type": "stream",
          "name": "stderr",
          "text": [
            "Exception in callback None(<Task finishe...> result=None>)\n",
            "handle: <Handle>\n",
            "Traceback (most recent call last):\n",
            "  File \"/usr/lib/python3.7/asyncio/events.py\", line 88, in _run\n",
            "    self._context.run(self._callback, *self._args)\n",
            "TypeError: 'NoneType' object is not callable\n"
          ]
        }
      ]
    }
  ]
}
